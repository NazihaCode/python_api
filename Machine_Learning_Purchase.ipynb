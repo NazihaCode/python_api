{
  "cells": [
    {
      "cell_type": "markdown",
      "metadata": {
        "id": "view-in-github",
        "colab_type": "text"
      },
      "source": [
        "<a href=\"https://colab.research.google.com/github/NazihaCode/python_api/blob/master/Machine_Learning_Purchase.ipynb\" target=\"_parent\"><img src=\"https://colab.research.google.com/assets/colab-badge.svg\" alt=\"Open In Colab\"/></a>"
      ]
    },
    {
      "cell_type": "code",
      "execution_count": null,
      "metadata": {
        "id": "mOO92Gzb6M1G"
      },
      "outputs": [],
      "source": [
        "import pandas as pd\n",
        "import numpy as np\n",
        "# Label Encoding\n",
        "from sklearn.preprocessing import LabelEncoder\n",
        "le=LabelEncoder()\n"
      ]
    },
    {
      "cell_type": "code",
      "execution_count": null,
      "metadata": {
        "id": "rPLYPINfP1_i"
      },
      "outputs": [],
      "source": [
        "!wget https://storage.googleapis.com/datasetsbyali/Social_Network_Adata.csv #Download on Local"
      ]
    },
    {
      "cell_type": "code",
      "execution_count": null,
      "metadata": {
        "colab": {
          "base_uri": "https://localhost:8080/"
        },
        "id": "gzABV0-Qu0K0",
        "outputId": "c42a85e6-e635-418e-eb2f-e1ed09a0e322"
      },
      "outputs": [
        {
          "name": "stdout",
          "output_type": "stream",
          "text": [
            "Mounted at /content/drive\n"
          ]
        }
      ],
      "source": [
        "from google.colab import drive\n",
        "drive.mount('/content/drive', force_remount=True )\n"
      ]
    },
    {
      "cell_type": "code",
      "execution_count": null,
      "metadata": {
        "colab": {
          "base_uri": "https://localhost:8080/"
        },
        "id": "UrFt_yJ1AAfg",
        "outputId": "e6fad907-70b7-46e0-b373-d7ac13f5bc15"
      },
      "outputs": [
        {
          "name": "stdout",
          "output_type": "stream",
          "text": [
            "/content/drive/MyDrive\n"
          ]
        }
      ],
      "source": [
        "cd '/content/drive/MyDrive/'\n"
      ]
    },
    {
      "cell_type": "code",
      "execution_count": null,
      "metadata": {
        "id": "In0t-trcvexd"
      },
      "outputs": [],
      "source": [
        "import data"
      ]
    },
    {
      "cell_type": "code",
      "execution_count": null,
      "metadata": {
        "colab": {
          "base_uri": "https://localhost:8080/",
          "height": 206
        },
        "id": "GZHPRUsN6M1L",
        "outputId": "f76804a3-77eb-4f34-de64-09b8f492d4ad"
      },
      "outputs": [
        {
          "data": {
            "text/html": [
              "\n",
              "  <div id=\"df-ed821389-bcc4-4c64-a9cb-3d94a6673b2a\">\n",
              "    <div class=\"colab-df-container\">\n",
              "      <div>\n",
              "<style scoped>\n",
              "    .dataframe tbody tr th:only-of-type {\n",
              "        vertical-align: middle;\n",
              "    }\n",
              "\n",
              "    .dataframe tbody tr th {\n",
              "        vertical-align: top;\n",
              "    }\n",
              "\n",
              "    .dataframe thead th {\n",
              "        text-align: right;\n",
              "    }\n",
              "</style>\n",
              "<table border=\"1\" class=\"dataframe\">\n",
              "  <thead>\n",
              "    <tr style=\"text-align: right;\">\n",
              "      <th></th>\n",
              "      <th>User ID</th>\n",
              "      <th>Gender</th>\n",
              "      <th>Age</th>\n",
              "      <th>EstimatedSalary</th>\n",
              "      <th>Purchased</th>\n",
              "    </tr>\n",
              "  </thead>\n",
              "  <tbody>\n",
              "    <tr>\n",
              "      <th>0</th>\n",
              "      <td>15624510</td>\n",
              "      <td>Male</td>\n",
              "      <td>19</td>\n",
              "      <td>19000</td>\n",
              "      <td>0</td>\n",
              "    </tr>\n",
              "    <tr>\n",
              "      <th>1</th>\n",
              "      <td>15810944</td>\n",
              "      <td>Male</td>\n",
              "      <td>35</td>\n",
              "      <td>20000</td>\n",
              "      <td>0</td>\n",
              "    </tr>\n",
              "    <tr>\n",
              "      <th>2</th>\n",
              "      <td>15668575</td>\n",
              "      <td>Female</td>\n",
              "      <td>26</td>\n",
              "      <td>43000</td>\n",
              "      <td>0</td>\n",
              "    </tr>\n",
              "    <tr>\n",
              "      <th>3</th>\n",
              "      <td>15603246</td>\n",
              "      <td>Female</td>\n",
              "      <td>27</td>\n",
              "      <td>57000</td>\n",
              "      <td>0</td>\n",
              "    </tr>\n",
              "    <tr>\n",
              "      <th>4</th>\n",
              "      <td>15804002</td>\n",
              "      <td>Male</td>\n",
              "      <td>19</td>\n",
              "      <td>76000</td>\n",
              "      <td>0</td>\n",
              "    </tr>\n",
              "  </tbody>\n",
              "</table>\n",
              "</div>\n",
              "      <button class=\"colab-df-convert\" onclick=\"convertToInteractive('df-ed821389-bcc4-4c64-a9cb-3d94a6673b2a')\"\n",
              "              title=\"Convert this dataframe to an interactive table.\"\n",
              "              style=\"display:none;\">\n",
              "        \n",
              "  <svg xmlns=\"http://www.w3.org/2000/svg\" height=\"24px\"viewBox=\"0 0 24 24\"\n",
              "       width=\"24px\">\n",
              "    <path d=\"M0 0h24v24H0V0z\" fill=\"none\"/>\n",
              "    <path d=\"M18.56 5.44l.94 2.06.94-2.06 2.06-.94-2.06-.94-.94-2.06-.94 2.06-2.06.94zm-11 1L8.5 8.5l.94-2.06 2.06-.94-2.06-.94L8.5 2.5l-.94 2.06-2.06.94zm10 10l.94 2.06.94-2.06 2.06-.94-2.06-.94-.94-2.06-.94 2.06-2.06.94z\"/><path d=\"M17.41 7.96l-1.37-1.37c-.4-.4-.92-.59-1.43-.59-.52 0-1.04.2-1.43.59L10.3 9.45l-7.72 7.72c-.78.78-.78 2.05 0 2.83L4 21.41c.39.39.9.59 1.41.59.51 0 1.02-.2 1.41-.59l7.78-7.78 2.81-2.81c.8-.78.8-2.07 0-2.86zM5.41 20L4 18.59l7.72-7.72 1.47 1.35L5.41 20z\"/>\n",
              "  </svg>\n",
              "      </button>\n",
              "      \n",
              "  <style>\n",
              "    .colab-df-container {\n",
              "      display:flex;\n",
              "      flex-wrap:wrap;\n",
              "      gap: 12px;\n",
              "    }\n",
              "\n",
              "    .colab-df-convert {\n",
              "      background-color: #E8F0FE;\n",
              "      border: none;\n",
              "      border-radius: 50%;\n",
              "      cursor: pointer;\n",
              "      display: none;\n",
              "      fill: #1967D2;\n",
              "      height: 32px;\n",
              "      padding: 0 0 0 0;\n",
              "      width: 32px;\n",
              "    }\n",
              "\n",
              "    .colab-df-convert:hover {\n",
              "      background-color: #E2EBFA;\n",
              "      box-shadow: 0px 1px 2px rgba(60, 64, 67, 0.3), 0px 1px 3px 1px rgba(60, 64, 67, 0.15);\n",
              "      fill: #174EA6;\n",
              "    }\n",
              "\n",
              "    [theme=dark] .colab-df-convert {\n",
              "      background-color: #3B4455;\n",
              "      fill: #D2E3FC;\n",
              "    }\n",
              "\n",
              "    [theme=dark] .colab-df-convert:hover {\n",
              "      background-color: #434B5C;\n",
              "      box-shadow: 0px 1px 3px 1px rgba(0, 0, 0, 0.15);\n",
              "      filter: drop-shadow(0px 1px 2px rgba(0, 0, 0, 0.3));\n",
              "      fill: #FFFFFF;\n",
              "    }\n",
              "  </style>\n",
              "\n",
              "      <script>\n",
              "        const buttonEl =\n",
              "          document.querySelector('#df-ed821389-bcc4-4c64-a9cb-3d94a6673b2a button.colab-df-convert');\n",
              "        buttonEl.style.display =\n",
              "          google.colab.kernel.accessAllowed ? 'block' : 'none';\n",
              "\n",
              "        async function convertToInteractive(key) {\n",
              "          const element = document.querySelector('#df-ed821389-bcc4-4c64-a9cb-3d94a6673b2a');\n",
              "          const dataTable =\n",
              "            await google.colab.kernel.invokeFunction('convertToInteractive',\n",
              "                                                     [key], {});\n",
              "          if (!dataTable) return;\n",
              "\n",
              "          const docLinkHtml = 'Like what you see? Visit the ' +\n",
              "            '<a target=\"_blank\" href=https://colab.research.google.com/notebooks/data_table.ipynb>data table notebook</a>'\n",
              "            + ' to learn more about interactive tables.';\n",
              "          element.innerHTML = '';\n",
              "          dataTable['output_type'] = 'display_data';\n",
              "          await google.colab.output.renderOutput(dataTable, element);\n",
              "          const docLink = document.createElement('div');\n",
              "          docLink.innerHTML = docLinkHtml;\n",
              "          element.appendChild(docLink);\n",
              "        }\n",
              "      </script>\n",
              "    </div>\n",
              "  </div>\n",
              "  "
            ],
            "text/plain": [
              "    User ID  Gender  Age  EstimatedSalary  Purchased\n",
              "0  15624510    Male   19            19000          0\n",
              "1  15810944    Male   35            20000          0\n",
              "2  15668575  Female   26            43000          0\n",
              "3  15603246  Female   27            57000          0\n",
              "4  15804002    Male   19            76000          0"
            ]
          },
          "execution_count": 14,
          "metadata": {},
          "output_type": "execute_result"
        }
      ],
      "source": [
        "#data= pd.read_csv(\"https://storage.googleapis.com/datasetsbyali/Social_Network_Adata.csv\")\n",
        "data= pd.read_csv(\"data/Social_Network_Ads.csv\")\n",
        "data.head()"
      ]
    },
    {
      "cell_type": "code",
      "execution_count": null,
      "metadata": {
        "colab": {
          "base_uri": "https://localhost:8080/"
        },
        "id": "J7ZMo-uq6M1O",
        "outputId": "dea40ce2-33a5-4a47-9866-8d0d85a9d463"
      },
      "outputs": [
        {
          "data": {
            "text/plain": [
              "array([0, 1])"
            ]
          },
          "execution_count": 15,
          "metadata": {},
          "output_type": "execute_result"
        }
      ],
      "source": [
        "data['Purchased'].unique() #check if Classification or Regression!"
      ]
    },
    {
      "cell_type": "markdown",
      "metadata": {
        "id": "BG7CYNQ96M1R"
      },
      "source": [
        "# Classification Problem\n",
        "### \"Purchased\" column has ony 2 unique values, so it is basically Binary Classification problem"
      ]
    },
    {
      "cell_type": "code",
      "execution_count": null,
      "metadata": {
        "colab": {
          "base_uri": "https://localhost:8080/"
        },
        "id": "b0-_whVd6M1S",
        "outputId": "d2fea4b6-b727-43c5-a22b-667f8efc1ddb"
      },
      "outputs": [
        {
          "name": "stdout",
          "output_type": "stream",
          "text": [
            "<class 'pandas.core.frame.DataFrame'>\n",
            "RangeIndex: 400 entries, 0 to 399\n",
            "Data columns (total 5 columns):\n",
            " #   Column           Non-Null Count  Dtype \n",
            "---  ------           --------------  ----- \n",
            " 0   User ID          400 non-null    int64 \n",
            " 1   Gender           400 non-null    object\n",
            " 2   Age              400 non-null    int64 \n",
            " 3   EstimatedSalary  400 non-null    int64 \n",
            " 4   Purchased        400 non-null    int64 \n",
            "dtypes: int64(4), object(1)\n",
            "memory usage: 15.8+ KB\n"
          ]
        }
      ],
      "source": [
        "data.info() #check for null values"
      ]
    },
    {
      "cell_type": "code",
      "execution_count": null,
      "metadata": {
        "id": "K11-C4c_6M1U"
      },
      "outputs": [],
      "source": [
        "\n",
        "#transforming non numerical labels to numeric labels\n",
        "data['Gender']=le.fit_transform(data['Gender'])"
      ]
    },
    {
      "cell_type": "code",
      "execution_count": null,
      "metadata": {
        "colab": {
          "base_uri": "https://localhost:8080/",
          "height": 206
        },
        "id": "4lLp5Yk_6M1W",
        "outputId": "d8e48a8f-e1fe-4795-dacf-e56ad7f0eef2"
      },
      "outputs": [
        {
          "data": {
            "text/html": [
              "\n",
              "  <div id=\"df-8e1d5eff-2de8-4fe7-9a4a-ae7f1025dec7\">\n",
              "    <div class=\"colab-df-container\">\n",
              "      <div>\n",
              "<style scoped>\n",
              "    .dataframe tbody tr th:only-of-type {\n",
              "        vertical-align: middle;\n",
              "    }\n",
              "\n",
              "    .dataframe tbody tr th {\n",
              "        vertical-align: top;\n",
              "    }\n",
              "\n",
              "    .dataframe thead th {\n",
              "        text-align: right;\n",
              "    }\n",
              "</style>\n",
              "<table border=\"1\" class=\"dataframe\">\n",
              "  <thead>\n",
              "    <tr style=\"text-align: right;\">\n",
              "      <th></th>\n",
              "      <th>User ID</th>\n",
              "      <th>Gender</th>\n",
              "      <th>Age</th>\n",
              "      <th>EstimatedSalary</th>\n",
              "      <th>Purchased</th>\n",
              "    </tr>\n",
              "  </thead>\n",
              "  <tbody>\n",
              "    <tr>\n",
              "      <th>0</th>\n",
              "      <td>15624510</td>\n",
              "      <td>1</td>\n",
              "      <td>19</td>\n",
              "      <td>19000</td>\n",
              "      <td>0</td>\n",
              "    </tr>\n",
              "    <tr>\n",
              "      <th>1</th>\n",
              "      <td>15810944</td>\n",
              "      <td>1</td>\n",
              "      <td>35</td>\n",
              "      <td>20000</td>\n",
              "      <td>0</td>\n",
              "    </tr>\n",
              "    <tr>\n",
              "      <th>2</th>\n",
              "      <td>15668575</td>\n",
              "      <td>0</td>\n",
              "      <td>26</td>\n",
              "      <td>43000</td>\n",
              "      <td>0</td>\n",
              "    </tr>\n",
              "    <tr>\n",
              "      <th>3</th>\n",
              "      <td>15603246</td>\n",
              "      <td>0</td>\n",
              "      <td>27</td>\n",
              "      <td>57000</td>\n",
              "      <td>0</td>\n",
              "    </tr>\n",
              "    <tr>\n",
              "      <th>4</th>\n",
              "      <td>15804002</td>\n",
              "      <td>1</td>\n",
              "      <td>19</td>\n",
              "      <td>76000</td>\n",
              "      <td>0</td>\n",
              "    </tr>\n",
              "  </tbody>\n",
              "</table>\n",
              "</div>\n",
              "      <button class=\"colab-df-convert\" onclick=\"convertToInteractive('df-8e1d5eff-2de8-4fe7-9a4a-ae7f1025dec7')\"\n",
              "              title=\"Convert this dataframe to an interactive table.\"\n",
              "              style=\"display:none;\">\n",
              "        \n",
              "  <svg xmlns=\"http://www.w3.org/2000/svg\" height=\"24px\"viewBox=\"0 0 24 24\"\n",
              "       width=\"24px\">\n",
              "    <path d=\"M0 0h24v24H0V0z\" fill=\"none\"/>\n",
              "    <path d=\"M18.56 5.44l.94 2.06.94-2.06 2.06-.94-2.06-.94-.94-2.06-.94 2.06-2.06.94zm-11 1L8.5 8.5l.94-2.06 2.06-.94-2.06-.94L8.5 2.5l-.94 2.06-2.06.94zm10 10l.94 2.06.94-2.06 2.06-.94-2.06-.94-.94-2.06-.94 2.06-2.06.94z\"/><path d=\"M17.41 7.96l-1.37-1.37c-.4-.4-.92-.59-1.43-.59-.52 0-1.04.2-1.43.59L10.3 9.45l-7.72 7.72c-.78.78-.78 2.05 0 2.83L4 21.41c.39.39.9.59 1.41.59.51 0 1.02-.2 1.41-.59l7.78-7.78 2.81-2.81c.8-.78.8-2.07 0-2.86zM5.41 20L4 18.59l7.72-7.72 1.47 1.35L5.41 20z\"/>\n",
              "  </svg>\n",
              "      </button>\n",
              "      \n",
              "  <style>\n",
              "    .colab-df-container {\n",
              "      display:flex;\n",
              "      flex-wrap:wrap;\n",
              "      gap: 12px;\n",
              "    }\n",
              "\n",
              "    .colab-df-convert {\n",
              "      background-color: #E8F0FE;\n",
              "      border: none;\n",
              "      border-radius: 50%;\n",
              "      cursor: pointer;\n",
              "      display: none;\n",
              "      fill: #1967D2;\n",
              "      height: 32px;\n",
              "      padding: 0 0 0 0;\n",
              "      width: 32px;\n",
              "    }\n",
              "\n",
              "    .colab-df-convert:hover {\n",
              "      background-color: #E2EBFA;\n",
              "      box-shadow: 0px 1px 2px rgba(60, 64, 67, 0.3), 0px 1px 3px 1px rgba(60, 64, 67, 0.15);\n",
              "      fill: #174EA6;\n",
              "    }\n",
              "\n",
              "    [theme=dark] .colab-df-convert {\n",
              "      background-color: #3B4455;\n",
              "      fill: #D2E3FC;\n",
              "    }\n",
              "\n",
              "    [theme=dark] .colab-df-convert:hover {\n",
              "      background-color: #434B5C;\n",
              "      box-shadow: 0px 1px 3px 1px rgba(0, 0, 0, 0.15);\n",
              "      filter: drop-shadow(0px 1px 2px rgba(0, 0, 0, 0.3));\n",
              "      fill: #FFFFFF;\n",
              "    }\n",
              "  </style>\n",
              "\n",
              "      <script>\n",
              "        const buttonEl =\n",
              "          document.querySelector('#df-8e1d5eff-2de8-4fe7-9a4a-ae7f1025dec7 button.colab-df-convert');\n",
              "        buttonEl.style.display =\n",
              "          google.colab.kernel.accessAllowed ? 'block' : 'none';\n",
              "\n",
              "        async function convertToInteractive(key) {\n",
              "          const element = document.querySelector('#df-8e1d5eff-2de8-4fe7-9a4a-ae7f1025dec7');\n",
              "          const dataTable =\n",
              "            await google.colab.kernel.invokeFunction('convertToInteractive',\n",
              "                                                     [key], {});\n",
              "          if (!dataTable) return;\n",
              "\n",
              "          const docLinkHtml = 'Like what you see? Visit the ' +\n",
              "            '<a target=\"_blank\" href=https://colab.research.google.com/notebooks/data_table.ipynb>data table notebook</a>'\n",
              "            + ' to learn more about interactive tables.';\n",
              "          element.innerHTML = '';\n",
              "          dataTable['output_type'] = 'display_data';\n",
              "          await google.colab.output.renderOutput(dataTable, element);\n",
              "          const docLink = document.createElement('div');\n",
              "          docLink.innerHTML = docLinkHtml;\n",
              "          element.appendChild(docLink);\n",
              "        }\n",
              "      </script>\n",
              "    </div>\n",
              "  </div>\n",
              "  "
            ],
            "text/plain": [
              "    User ID  Gender  Age  EstimatedSalary  Purchased\n",
              "0  15624510       1   19            19000          0\n",
              "1  15810944       1   35            20000          0\n",
              "2  15668575       0   26            43000          0\n",
              "3  15603246       0   27            57000          0\n",
              "4  15804002       1   19            76000          0"
            ]
          },
          "execution_count": 17,
          "metadata": {},
          "output_type": "execute_result"
        }
      ],
      "source": [
        "data.head(5)"
      ]
    },
    {
      "cell_type": "code",
      "execution_count": null,
      "metadata": {
        "colab": {
          "base_uri": "https://localhost:8080/"
        },
        "id": "L0RyCH_X6M1a",
        "outputId": "f3dd0576-dd29-49e1-8fba-4d540468d155"
      },
      "outputs": [
        {
          "data": {
            "text/plain": [
              "array([1, 0])"
            ]
          },
          "execution_count": 18,
          "metadata": {},
          "output_type": "execute_result"
        }
      ],
      "source": [
        "data['Gender'].unique()\n",
        "# Only two unique values, so need of One Hot Encoding"
      ]
    },
    {
      "cell_type": "code",
      "execution_count": null,
      "metadata": {
        "id": "xMl__5S96M1d"
      },
      "outputs": [],
      "source": [
        "#we are seperating x and y values using iloc[]\n",
        "x=data.iloc[:,1:4].values\n",
        "y=data.iloc[:,4].values"
      ]
    },
    {
      "cell_type": "code",
      "execution_count": null,
      "metadata": {
        "colab": {
          "base_uri": "https://localhost:8080/"
        },
        "id": "2JMYT6nF6M1g",
        "outputId": "5b5c08c6-73ac-464a-cccb-22c6d19e3354"
      },
      "outputs": [
        {
          "data": {
            "text/plain": [
              "(400, 3)"
            ]
          },
          "execution_count": 20,
          "metadata": {},
          "output_type": "execute_result"
        }
      ],
      "source": [
        "x.shape"
      ]
    },
    {
      "cell_type": "code",
      "execution_count": null,
      "metadata": {
        "colab": {
          "base_uri": "https://localhost:8080/"
        },
        "id": "9oTk_VNH6M1i",
        "outputId": "2a8a487d-2dd9-4ae9-b1fd-6227ad59ea26"
      },
      "outputs": [
        {
          "data": {
            "text/plain": [
              "(320, 3)"
            ]
          },
          "execution_count": 21,
          "metadata": {},
          "output_type": "execute_result"
        }
      ],
      "source": [
        "# Splitting the data\n",
        "from sklearn.model_selection import train_test_split\n",
        "x_train,x_test,y_train,y_test=train_test_split(x,y,test_size=0.2)\n",
        "x_train.shape"
      ]
    },
    {
      "cell_type": "markdown",
      "metadata": {
        "id": "hn3d9alwMkXC"
      },
      "source": [
        "## StandardScaler \n",
        "\n",
        " It transforms the data in such a manner that it has mean as 0 and standard deviation as 1. In short, it standardizes the data. Standardization is useful for data which has negative values. It arranges the data in a standard normal distribution."
      ]
    },
    {
      "cell_type": "markdown",
      "metadata": {
        "id": "Kap4QZ78v53Q"
      },
      "source": [
        "## let's verify this with an example;"
      ]
    },
    {
      "cell_type": "code",
      "execution_count": null,
      "metadata": {
        "colab": {
          "base_uri": "https://localhost:8080/"
        },
        "id": "1Mizh2eXp0N7",
        "outputId": "420d5c1a-8d9b-4235-a6d0-573e718610f2"
      },
      "outputs": [
        {
          "name": "stdout",
          "output_type": "stream",
          "text": [
            "[[0 0]\n",
            " [1 0]\n",
            " [0 1]\n",
            " [1 1]]\n",
            "[[-1. -1.]\n",
            " [ 1. -1.]\n",
            " [-1.  1.]\n",
            " [ 1.  1.]]\n"
          ]
        }
      ],
      "source": [
        "from sklearn.preprocessing import StandardScaler\n",
        "import numpy as np\n",
        "\n",
        " #4 samples/observations and 2 variables/features\n",
        "data = np.array([[0,0] , [1,0] , [0,1] , [1,1]])\n",
        "scaler =StandardScaler()\n",
        "scaled_data = scaler.fit_transform(data)\n",
        "\n",
        "print(data)\n",
        "print(scaled_data)"
      ]
    },
    {
      "cell_type": "code",
      "execution_count": null,
      "metadata": {
        "id": "QhhMUqV3WEEc"
      },
      "outputs": [],
      "source": [
        "x_train = scaler.fit_transform(x_train)\n",
        "x_test = scaler.fit_transform(x_test)"
      ]
    },
    {
      "cell_type": "code",
      "execution_count": null,
      "metadata": {
        "colab": {
          "base_uri": "https://localhost:8080/"
        },
        "id": "PMuWq4ulTS1V",
        "outputId": "caf6b9c7-b76b-4d77-b788-d95d5984e632"
      },
      "outputs": [
        {
          "name": "stdout",
          "output_type": "stream",
          "text": [
            "Looking in indexes: https://pypi.org/simple, https://us-python.pkg.dev/colab-wheels/public/simple/\n",
            "Collecting sklearn\n",
            "  Downloading sklearn-0.0.post1.tar.gz (3.6 kB)\n",
            "  Preparing metadata (setup.py) ... \u001b[?25l\u001b[?25hdone\n",
            "Building wheels for collected packages: sklearn\n",
            "  Building wheel for sklearn (setup.py) ... \u001b[?25l\u001b[?25hdone\n",
            "  Created wheel for sklearn: filename=sklearn-0.0.post1-py3-none-any.whl size=2344 sha256=5bae182dcd940fc0f09606cffc5de6c58e94777dac1ce4b7139a3218847a3e0c\n",
            "  Stored in directory: /root/.cache/pip/wheels/14/25/f7/1cc0956978ae479e75140219088deb7a36f60459df242b1a72\n",
            "Successfully built sklearn\n",
            "Installing collected packages: sklearn\n",
            "Successfully installed sklearn-0.0.post1\n"
          ]
        }
      ],
      "source": [
        "!pip install sklearn\n"
      ]
    },
    {
      "cell_type": "code",
      "execution_count": null,
      "metadata": {
        "colab": {
          "base_uri": "https://localhost:8080/"
        },
        "id": "7XWHanafrp7N",
        "outputId": "7030fb2e-56d9-4268-9d29-febda2329687"
      },
      "outputs": [
        {
          "data": {
            "text/plain": [
              "array([0., 0.])"
            ]
          },
          "execution_count": 24,
          "metadata": {},
          "output_type": "execute_result"
        }
      ],
      "source": [
        "#Verify that the mean of each feature (column) is 0:\n",
        "scaled_data.mean(axis=0)\n"
      ]
    },
    {
      "cell_type": "code",
      "execution_count": null,
      "metadata": {
        "colab": {
          "base_uri": "https://localhost:8080/"
        },
        "id": "Un0rRcukrxvs",
        "outputId": "6863d3cd-f039-42e6-a5bc-09c2b8e50f49"
      },
      "outputs": [
        {
          "data": {
            "text/plain": [
              "array([1., 1.])"
            ]
          },
          "execution_count": 25,
          "metadata": {},
          "output_type": "execute_result"
        }
      ],
      "source": [
        "#Verify that the std of each feature (column) is 1:\n",
        "scaled_data.std(axis=0)\n"
      ]
    },
    {
      "cell_type": "code",
      "execution_count": null,
      "metadata": {
        "id": "HEVT7n3_6M1k"
      },
      "outputs": [],
      "source": [
        "# Feature Scaling\n"
      ]
    },
    {
      "cell_type": "code",
      "execution_count": null,
      "metadata": {
        "colab": {
          "base_uri": "https://localhost:8080/",
          "height": 74
        },
        "id": "wH8GoFXb6M1m",
        "outputId": "2594c4d1-2fba-436e-ba7a-e9c2617cc6c3"
      },
      "outputs": [
        {
          "data": {
            "text/html": [
              "<style>#sk-container-id-2 {color: black;background-color: white;}#sk-container-id-2 pre{padding: 0;}#sk-container-id-2 div.sk-toggleable {background-color: white;}#sk-container-id-2 label.sk-toggleable__label {cursor: pointer;display: block;width: 100%;margin-bottom: 0;padding: 0.3em;box-sizing: border-box;text-align: center;}#sk-container-id-2 label.sk-toggleable__label-arrow:before {content: \"▸\";float: left;margin-right: 0.25em;color: #696969;}#sk-container-id-2 label.sk-toggleable__label-arrow:hover:before {color: black;}#sk-container-id-2 div.sk-estimator:hover label.sk-toggleable__label-arrow:before {color: black;}#sk-container-id-2 div.sk-toggleable__content {max-height: 0;max-width: 0;overflow: hidden;text-align: left;background-color: #f0f8ff;}#sk-container-id-2 div.sk-toggleable__content pre {margin: 0.2em;color: black;border-radius: 0.25em;background-color: #f0f8ff;}#sk-container-id-2 input.sk-toggleable__control:checked~div.sk-toggleable__content {max-height: 200px;max-width: 100%;overflow: auto;}#sk-container-id-2 input.sk-toggleable__control:checked~label.sk-toggleable__label-arrow:before {content: \"▾\";}#sk-container-id-2 div.sk-estimator input.sk-toggleable__control:checked~label.sk-toggleable__label {background-color: #d4ebff;}#sk-container-id-2 div.sk-label input.sk-toggleable__control:checked~label.sk-toggleable__label {background-color: #d4ebff;}#sk-container-id-2 input.sk-hidden--visually {border: 0;clip: rect(1px 1px 1px 1px);clip: rect(1px, 1px, 1px, 1px);height: 1px;margin: -1px;overflow: hidden;padding: 0;position: absolute;width: 1px;}#sk-container-id-2 div.sk-estimator {font-family: monospace;background-color: #f0f8ff;border: 1px dotted black;border-radius: 0.25em;box-sizing: border-box;margin-bottom: 0.5em;}#sk-container-id-2 div.sk-estimator:hover {background-color: #d4ebff;}#sk-container-id-2 div.sk-parallel-item::after {content: \"\";width: 100%;border-bottom: 1px solid gray;flex-grow: 1;}#sk-container-id-2 div.sk-label:hover label.sk-toggleable__label {background-color: #d4ebff;}#sk-container-id-2 div.sk-serial::before {content: \"\";position: absolute;border-left: 1px solid gray;box-sizing: border-box;top: 0;bottom: 0;left: 50%;z-index: 0;}#sk-container-id-2 div.sk-serial {display: flex;flex-direction: column;align-items: center;background-color: white;padding-right: 0.2em;padding-left: 0.2em;position: relative;}#sk-container-id-2 div.sk-item {position: relative;z-index: 1;}#sk-container-id-2 div.sk-parallel {display: flex;align-items: stretch;justify-content: center;background-color: white;position: relative;}#sk-container-id-2 div.sk-item::before, #sk-container-id-2 div.sk-parallel-item::before {content: \"\";position: absolute;border-left: 1px solid gray;box-sizing: border-box;top: 0;bottom: 0;left: 50%;z-index: -1;}#sk-container-id-2 div.sk-parallel-item {display: flex;flex-direction: column;z-index: 1;position: relative;background-color: white;}#sk-container-id-2 div.sk-parallel-item:first-child::after {align-self: flex-end;width: 50%;}#sk-container-id-2 div.sk-parallel-item:last-child::after {align-self: flex-start;width: 50%;}#sk-container-id-2 div.sk-parallel-item:only-child::after {width: 0;}#sk-container-id-2 div.sk-dashed-wrapped {border: 1px dashed gray;margin: 0 0.4em 0.5em 0.4em;box-sizing: border-box;padding-bottom: 0.4em;background-color: white;}#sk-container-id-2 div.sk-label label {font-family: monospace;font-weight: bold;display: inline-block;line-height: 1.2em;}#sk-container-id-2 div.sk-label-container {text-align: center;}#sk-container-id-2 div.sk-container {/* jupyter's `normalize.less` sets `[hidden] { display: none; }` but bootstrap.min.css set `[hidden] { display: none !important; }` so we also need the `!important` here to be able to override the default hidden behavior on the sphinx rendered scikit-learn.org. See: https://github.com/scikit-learn/scikit-learn/issues/21755 */display: inline-block !important;position: relative;}#sk-container-id-2 div.sk-text-repr-fallback {display: none;}</style><div id=\"sk-container-id-2\" class=\"sk-top-container\"><div class=\"sk-text-repr-fallback\"><pre>DecisionTreeClassifier(criterion=&#x27;entropy&#x27;, random_state=42)</pre><b>In a Jupyter environment, please rerun this cell to show the HTML representation or trust the notebook. <br />On GitHub, the HTML representation is unable to render, please try loading this page with nbviewer.org.</b></div><div class=\"sk-container\" hidden><div class=\"sk-item\"><div class=\"sk-estimator sk-toggleable\"><input class=\"sk-toggleable__control sk-hidden--visually\" id=\"sk-estimator-id-2\" type=\"checkbox\" checked><label for=\"sk-estimator-id-2\" class=\"sk-toggleable__label sk-toggleable__label-arrow\">DecisionTreeClassifier</label><div class=\"sk-toggleable__content\"><pre>DecisionTreeClassifier(criterion=&#x27;entropy&#x27;, random_state=42)</pre></div></div></div></div></div>"
            ],
            "text/plain": [
              "DecisionTreeClassifier(criterion='entropy', random_state=42)"
            ]
          },
          "execution_count": 27,
          "metadata": {},
          "output_type": "execute_result"
        }
      ],
      "source": [
        "# Training the model using Decision Tree Classifier\n",
        "from sklearn.tree import DecisionTreeClassifier\n",
        "dtc=DecisionTreeClassifier(criterion='entropy',random_state=42)\n",
        "dtc.fit(x_train,y_train)"
      ]
    },
    {
      "cell_type": "code",
      "execution_count": null,
      "metadata": {
        "id": "IWHh21i06M1o"
      },
      "outputs": [],
      "source": [
        "y_pred=dtc.predict(x_test)"
      ]
    },
    {
      "cell_type": "code",
      "execution_count": null,
      "metadata": {
        "colab": {
          "base_uri": "https://localhost:8080/"
        },
        "id": "ERxfMfMF6M1v",
        "outputId": "fd6797f9-8447-420d-8aee-ab9c1e1b747b"
      },
      "outputs": [
        {
          "data": {
            "text/plain": [
              "0.7875"
            ]
          },
          "execution_count": 29,
          "metadata": {},
          "output_type": "execute_result"
        }
      ],
      "source": [
        "# Getting the Accuracy Score\n",
        "from sklearn.metrics import accuracy_score\n",
        "accuracy_score(y_test,y_pred)"
      ]
    },
    {
      "cell_type": "code",
      "execution_count": null,
      "metadata": {
        "colab": {
          "base_uri": "https://localhost:8080/",
          "height": 421
        },
        "id": "hV-Mangp6M1x",
        "outputId": "8ab3518d-e1d9-44e4-8d2a-e49b96bc973b"
      },
      "outputs": [
        {
          "data": {
            "text/plain": [
              "<AxesSubplot:xlabel='Actual', ylabel='Predicted'>"
            ]
          },
          "execution_count": 30,
          "metadata": {},
          "output_type": "execute_result"
        },
        {
          "data": {
            "image/png": "[encoded data removed]",
            "text/plain": [
              "<Figure size 720x432 with 2 Axes>"
            ]
          },
          "metadata": {},
          "output_type": "display_data"
        }
      ],
      "source": [
        "labels = [\"Not Purchased\", \"Purhased\"]\n",
        "# Confusion Matrix\n",
        "from sklearn.metrics import confusion_matrix\n",
        "import seaborn as sns\n",
        "import matplotlib.pyplot as plt\n",
        "\n",
        "\n",
        "df_cm = pd.DataFrame(confusion_matrix(y_test,y_pred), columns=labels, index= labels)\n",
        "df_cm.index.name ='Predicted'\n",
        "df_cm.columns.name = 'Actual'\n",
        "plt.figure(figsize = (10,6))\n",
        "sns.set(font_scale=1.4)#for label size\n",
        "sns.heatmap(df_cm, annot=True,annot_kws={\"size\": 17})"
      ]
    },
    {
      "cell_type": "markdown",
      "metadata": {
        "id": "Lqzq8xhfNAtX"
      },
      "source": [
        "## ROC Curve\n",
        "Receiver Operating Characteristic curve. It is nothing but a graph displaying the performance of a classification model. It is a very popular method to measure the accuracy of a classification model.\n",
        "\n"
      ]
    },
    {
      "cell_type": "markdown",
      "metadata": {
        "id": "AkLDmstNPc60"
      },
      "source": [
        "The ROC curve is created by plotting the true positive rate (TPR) against the false positive rate (FPR) at various threshold settings."
      ]
    },
    {
      "cell_type": "code",
      "execution_count": null,
      "metadata": {
        "id": "jn3dhMJx6M1z"
      },
      "outputs": [],
      "source": [
        "# Getting the roc\n",
        "import sklearn.metrics as metrics   # to measure classification performance.\n",
        "fpr,tpr,threshold=metrics.roc_curve(y_test,y_pred)\n",
        "roc_auc=metrics.auc(fpr,tpr)"
      ]
    },
    {
      "cell_type": "code",
      "execution_count": null,
      "metadata": {
        "colab": {
          "base_uri": "https://localhost:8080/",
          "height": 332
        },
        "id": "7otPoBU76M11",
        "outputId": "f0b58a23-26c3-4e96-b8f0-a773af4e99f9"
      },
      "outputs": [
        {
          "data": {
            "text/plain": [
              "Text(0.5, 0, 'fpr')"
            ]
          },
          "execution_count": 32,
          "metadata": {},
          "output_type": "execute_result"
        },
        {
          "data": {
            "image/png": "[encoded data removed]",
            "text/plain": [
              "<Figure size 432x288 with 1 Axes>"
            ]
          },
          "metadata": {},
          "output_type": "display_data"
        }
      ],
      "source": [
        "# Plotting the roc-auc curve\n",
        "import matplotlib.pyplot as plt\n",
        "plt.title(\"roc\")\n",
        "plt.plot(fpr,tpr,'b',label=\"auc=%0.2f\"%roc_auc)\n",
        "plt.legend(loc=\"lower right\") #automatically creates a legend for labeled plot elements\n",
        "plt.plot([0,1],[0,1],\"r--\")\n",
        "plt.xlim([0,1])  #Get or set the x limits of the current axes.\n",
        "plt.ylim([0,1])  #Get or set the y limits of the current axes.\n",
        "plt.ylabel(\"tpr\")\n",
        "plt.xlabel(\"fpr\")"
      ]
    },
    {
      "cell_type": "code",
      "execution_count": null,
      "metadata": {
        "colab": {
          "base_uri": "https://localhost:8080/"
        },
        "id": "_r2SsLqe6M13",
        "outputId": "b3db7795-37af-40bf-ccf7-96daac0266a1"
      },
      "outputs": [
        {
          "data": {
            "text/plain": [
              "array([0])"
            ]
          },
          "execution_count": 33,
          "metadata": {},
          "output_type": "execute_result"
        }
      ],
      "source": [
        "# Prediction for demo data \n",
        "dtc.predict(scaler.fit_transform([[1,34,1900]]))"
      ]
    },
    {
      "cell_type": "code",
      "execution_count": null,
      "metadata": {
        "id": "afCC3xlnrMbd"
      },
      "outputs": [],
      "source": [
        "!pip install sklearn"
      ]
    },
    {
      "cell_type": "code",
      "execution_count": null,
      "metadata": {
        "id": "DWa0pVBq6tiO"
      },
      "outputs": [],
      "source": [
        "from sklearn.ensemble import RandomForestClassifier\n",
        "\n",
        "from sklearn.metrics import fbeta_score, make_scorer # make_scorer takes a score function, and returns a callable that scores a classifier's output.\n",
        "#F-beta score is for the positive class in binary classification\n",
        "\n",
        "#from sklearn.model_selection import GridataearchCV\n",
        "\n",
        "model = RandomForestClassifier()"
      ]
    },
    {
      "cell_type": "markdown",
      "metadata": {
        "id": "6jVORm9rBYBq"
      },
      "source": [
        "# optimised model\n",
        "\n",
        "**Our optimized Random Forest model is:**\n",
        "\n",
        "```\n",
        "RandomForestClassifier(bootstrap=True, ccp_alpha=0.0, class_weight=None,\n",
        "                       criterion='gini', max_depth=5, max_features='auto',\n",
        "                       max_leaf_nodes=None, max_samples=None,\n",
        "                       min_impurity_decrease=0.0, min_impurity_split=None,\n",
        "                       min_samples_leaf=8, min_samples_split=3,\n",
        "                       min_weight_fraction_leaf=0.0, n_estimators=4,\n",
        "                       n_jobs=None, oob_score=False, random_state=None,\n",
        "                       verbose=0, warm_start=False)\n",
        "```\n",
        "\n",
        "\n"
      ]
    },
    {
      "cell_type": "code",
      "execution_count": null,
      "metadata": {
        "id": "wA28U2Aq9EK2"
      },
      "outputs": [],
      "source": [
        "\n"
      ]
    },
    {
      "cell_type": "code",
      "execution_count": null,
      "metadata": {
        "colab": {
          "base_uri": "https://localhost:8080/",
          "height": 74
        },
        "id": "cU_mnt3FRCb7",
        "outputId": "c08c05cf-387c-4f80-883e-18d9a7755665"
      },
      "outputs": [
        {
          "data": {
            "text/html": [
              "<style>#sk-container-id-3 {color: black;background-color: white;}#sk-container-id-3 pre{padding: 0;}#sk-container-id-3 div.sk-toggleable {background-color: white;}#sk-container-id-3 label.sk-toggleable__label {cursor: pointer;display: block;width: 100%;margin-bottom: 0;padding: 0.3em;box-sizing: border-box;text-align: center;}#sk-container-id-3 label.sk-toggleable__label-arrow:before {content: \"▸\";float: left;margin-right: 0.25em;color: #696969;}#sk-container-id-3 label.sk-toggleable__label-arrow:hover:before {color: black;}#sk-container-id-3 div.sk-estimator:hover label.sk-toggleable__label-arrow:before {color: black;}#sk-container-id-3 div.sk-toggleable__content {max-height: 0;max-width: 0;overflow: hidden;text-align: left;background-color: #f0f8ff;}#sk-container-id-3 div.sk-toggleable__content pre {margin: 0.2em;color: black;border-radius: 0.25em;background-color: #f0f8ff;}#sk-container-id-3 input.sk-toggleable__control:checked~div.sk-toggleable__content {max-height: 200px;max-width: 100%;overflow: auto;}#sk-container-id-3 input.sk-toggleable__control:checked~label.sk-toggleable__label-arrow:before {content: \"▾\";}#sk-container-id-3 div.sk-estimator input.sk-toggleable__control:checked~label.sk-toggleable__label {background-color: #d4ebff;}#sk-container-id-3 div.sk-label input.sk-toggleable__control:checked~label.sk-toggleable__label {background-color: #d4ebff;}#sk-container-id-3 input.sk-hidden--visually {border: 0;clip: rect(1px 1px 1px 1px);clip: rect(1px, 1px, 1px, 1px);height: 1px;margin: -1px;overflow: hidden;padding: 0;position: absolute;width: 1px;}#sk-container-id-3 div.sk-estimator {font-family: monospace;background-color: #f0f8ff;border: 1px dotted black;border-radius: 0.25em;box-sizing: border-box;margin-bottom: 0.5em;}#sk-container-id-3 div.sk-estimator:hover {background-color: #d4ebff;}#sk-container-id-3 div.sk-parallel-item::after {content: \"\";width: 100%;border-bottom: 1px solid gray;flex-grow: 1;}#sk-container-id-3 div.sk-label:hover label.sk-toggleable__label {background-color: #d4ebff;}#sk-container-id-3 div.sk-serial::before {content: \"\";position: absolute;border-left: 1px solid gray;box-sizing: border-box;top: 0;bottom: 0;left: 50%;z-index: 0;}#sk-container-id-3 div.sk-serial {display: flex;flex-direction: column;align-items: center;background-color: white;padding-right: 0.2em;padding-left: 0.2em;position: relative;}#sk-container-id-3 div.sk-item {position: relative;z-index: 1;}#sk-container-id-3 div.sk-parallel {display: flex;align-items: stretch;justify-content: center;background-color: white;position: relative;}#sk-container-id-3 div.sk-item::before, #sk-container-id-3 div.sk-parallel-item::before {content: \"\";position: absolute;border-left: 1px solid gray;box-sizing: border-box;top: 0;bottom: 0;left: 50%;z-index: -1;}#sk-container-id-3 div.sk-parallel-item {display: flex;flex-direction: column;z-index: 1;position: relative;background-color: white;}#sk-container-id-3 div.sk-parallel-item:first-child::after {align-self: flex-end;width: 50%;}#sk-container-id-3 div.sk-parallel-item:last-child::after {align-self: flex-start;width: 50%;}#sk-container-id-3 div.sk-parallel-item:only-child::after {width: 0;}#sk-container-id-3 div.sk-dashed-wrapped {border: 1px dashed gray;margin: 0 0.4em 0.5em 0.4em;box-sizing: border-box;padding-bottom: 0.4em;background-color: white;}#sk-container-id-3 div.sk-label label {font-family: monospace;font-weight: bold;display: inline-block;line-height: 1.2em;}#sk-container-id-3 div.sk-label-container {text-align: center;}#sk-container-id-3 div.sk-container {/* jupyter's `normalize.less` sets `[hidden] { display: none; }` but bootstrap.min.css set `[hidden] { display: none !important; }` so we also need the `!important` here to be able to override the default hidden behavior on the sphinx rendered scikit-learn.org. See: https://github.com/scikit-learn/scikit-learn/issues/21755 */display: inline-block !important;position: relative;}#sk-container-id-3 div.sk-text-repr-fallback {display: none;}</style><div id=\"sk-container-id-3\" class=\"sk-top-container\"><div class=\"sk-text-repr-fallback\"><pre>RandomForestClassifier()</pre><b>In a Jupyter environment, please rerun this cell to show the HTML representation or trust the notebook. <br />On GitHub, the HTML representation is unable to render, please try loading this page with nbviewer.org.</b></div><div class=\"sk-container\" hidden><div class=\"sk-item\"><div class=\"sk-estimator sk-toggleable\"><input class=\"sk-toggleable__control sk-hidden--visually\" id=\"sk-estimator-id-3\" type=\"checkbox\" checked><label for=\"sk-estimator-id-3\" class=\"sk-toggleable__label sk-toggleable__label-arrow\">RandomForestClassifier</label><div class=\"sk-toggleable__content\"><pre>RandomForestClassifier()</pre></div></div></div></div></div>"
            ],
            "text/plain": [
              "RandomForestClassifier()"
            ]
          },
          "execution_count": 35,
          "metadata": {},
          "output_type": "execute_result"
        }
      ],
      "source": [
        "model.fit(x_train, y_train)"
      ]
    },
    {
      "cell_type": "code",
      "execution_count": null,
      "metadata": {
        "id": "t-T4M-0cRsae"
      },
      "outputs": [],
      "source": [
        "y_pred = model.predict(x_test)"
      ]
    },
    {
      "cell_type": "code",
      "execution_count": null,
      "metadata": {
        "colab": {
          "base_uri": "https://localhost:8080/"
        },
        "id": "X9tF8iE59OvV",
        "outputId": "4ce09a0b-8a47-4982-b516-223345211be5"
      },
      "outputs": [
        {
          "name": "stdout",
          "output_type": "stream",
          "text": [
            "               precision    recall  f1-score   support\n",
            "\n",
            "Not Purchased       0.92      0.84      0.88        55\n",
            "     Purhased       0.70      0.84      0.76        25\n",
            "\n",
            "     accuracy                           0.84        80\n",
            "    macro avg       0.81      0.84      0.82        80\n",
            " weighted avg       0.85      0.84      0.84        80\n",
            "\n"
          ]
        }
      ],
      "source": [
        "# Conclude that 0 is Not Purchased and 1 is vice versa\n",
        "from sklearn.metrics import confusion_matrix, accuracy_score, classification_report\n",
        "\n",
        "labels = [\"Not Purchased\", \"Purhased\"]\n",
        "\n",
        "y_pred=model.predict(x_test)\n",
        "report = classification_report(y_test, y_pred, target_names=labels)\n",
        "print(report)"
      ]
    },
    {
      "cell_type": "code",
      "execution_count": null,
      "metadata": {
        "colab": {
          "base_uri": "https://localhost:8080/",
          "height": 290
        },
        "id": "rvsF7DlsaIeK",
        "outputId": "7b1d4932-feca-4715-8b0e-395e0e0bcf86"
      },
      "outputs": [
        {
          "data": {
            "text/plain": [
              "<AxesSubplot:>"
            ]
          },
          "execution_count": 38,
          "metadata": {},
          "output_type": "execute_result"
        },
        {
          "data": {
            "image/png": "[encoded data removed]",
            "text/plain": [
              "<Figure size 432x288 with 2 Axes>"
            ]
          },
          "metadata": {},
          "output_type": "display_data"
        }
      ],
      "source": [
        "import seaborn as sns\n",
        "\n",
        "classes = [\"Not Purchased\", \"Purhased\"]\n",
        "\n",
        "classificationReport= classification_report(y_test, y_pred, target_names=classes, output_dict=True)\n",
        "\n",
        "sns.heatmap(pd.DataFrame(classificationReport).iloc[:-1, :].T, annot=True)\n"
      ]
    },
    {
      "cell_type": "markdown",
      "metadata": {
        "id": "gnGR9xJyaw4-"
      },
      "source": [
        "Note:\n",
        "\n",
        "`'macro':`\n",
        "\n",
        "Calculate metrics for each label, and find their unweighted mean. This does not take label imbalance into account.\n",
        "\n",
        "`'weighted'`:\n",
        "'weighted':\n",
        "Calculate metrics for each label, and find their average weighted by support (the number of true instances for each label). This alters ‘macro’ to account for label imbalance; it can result in an F-score that is not between precision and recall.\n",
        "\n",
        "`'Recall'`:\n",
        "Note: A model that produces no false negatives has a recall of 1.0.\n",
        "\n",
        "\n",
        "Improving precision typically reduces recall and vice versa."
      ]
    },
    {
      "cell_type": "markdown",
      "metadata": {
        "id": "9-ijpvRZb85m"
      },
      "source": [
        "## Let's plot the Confusion matrix"
      ]
    },
    {
      "cell_type": "code",
      "execution_count": null,
      "metadata": {
        "colab": {
          "base_uri": "https://localhost:8080/",
          "height": 475
        },
        "id": "ZZvoCfwY9IHn",
        "outputId": "f99de3e7-923d-4b9a-e5f7-5a1be0edc8f2"
      },
      "outputs": [
        {
          "data": {
            "text/plain": [
              "<AxesSubplot:xlabel='Predicted', ylabel='Actual'>"
            ]
          },
          "execution_count": 39,
          "metadata": {},
          "output_type": "execute_result"
        },
        {
          "data": {
            "image/png": "[encoded data removed]",
            "text/plain": [
              "<Figure size 720x504 with 2 Axes>"
            ]
          },
          "metadata": {},
          "output_type": "display_data"
        }
      ],
      "source": [
        "import seaborn as sns\n",
        "import matplotlib.pyplot as plt\n",
        "\n",
        "\n",
        "df_cm = pd.DataFrame(confusion_matrix(y_test,y_pred), columns=labels, index= labels)\n",
        "df_cm.index.name = 'Actual'\n",
        "df_cm.columns.name = 'Predicted'\n",
        "plt.figure(figsize = (10,7))\n",
        "sns.set(font_scale=1.4)#for label size\n",
        "sns.heatmap(df_cm, annot=True,annot_kws={\"size\": 17})"
      ]
    },
    {
      "cell_type": "code",
      "execution_count": null,
      "metadata": {
        "id": "gDTdIAehBGDt"
      },
      "outputs": [],
      "source": [
        "# Getting the roc\n",
        "import sklearn.metrics as metrics\n",
        "fpr,tpr,threshold=metrics.roc_curve(y_test,y_pred)\n",
        "roc_auc=metrics.auc(fpr,tpr)"
      ]
    },
    {
      "cell_type": "code",
      "execution_count": null,
      "metadata": {
        "colab": {
          "base_uri": "https://localhost:8080/",
          "height": 332
        },
        "id": "c4nBuH2jBGDw",
        "outputId": "77af54c1-9ef5-43a0-e285-b3bb8d4d278a"
      },
      "outputs": [
        {
          "data": {
            "text/plain": [
              "Text(0.5, 0, 'fpr')"
            ]
          },
          "execution_count": 41,
          "metadata": {},
          "output_type": "execute_result"
        },
        {
          "data": {
            "image/png": "[encoded data removed]",
            "text/plain": [
              "<Figure size 432x288 with 1 Axes>"
            ]
          },
          "metadata": {},
          "output_type": "display_data"
        }
      ],
      "source": [
        "# Plotting the roc-auc curve\n",
        "import matplotlib.pyplot as plt\n",
        "plt.title(\"roc\")\n",
        "plt.plot(fpr,tpr,'b',label=\"auc=%0.2f\"%roc_auc)\n",
        "plt.legend(loc=\"lower right\")\n",
        "plt.plot([0,1],[0,1],\"r--\")\n",
        "plt.xlim([0,1])\n",
        "plt.ylim([0,1])\n",
        "plt.ylabel(\"tpr\")\n",
        "plt.xlabel(\"fpr\")"
      ]
    },
    {
      "cell_type": "markdown",
      "metadata": {
        "id": "IX_LPM2vecab"
      },
      "source": [
        "## Before we deploy;"
      ]
    },
    {
      "cell_type": "code",
      "execution_count": null,
      "metadata": {
        "id": "7GuBwGZYdA1W"
      },
      "outputs": [],
      "source": [
        "# Import tools needed for visualization\n",
        "from sklearn.tree import export_graphviz\n",
        "import pydot\n",
        "tree = model.estimators_[3]\n",
        "features= ['Gender',\t'Age',\t'Estimatedataalary']\n",
        "\n",
        "# Export the image to a dot file\n",
        "export_graphviz(tree, out_file = 'tree.dot', feature_names = features, rounded = True, precision = 1)\n",
        "\n",
        "# Use dot file to create a graph\n",
        "(graph, ) = pydot.graph_from_dot_file('tree.dot')\n",
        "\n",
        "# Write graph to a png file\n",
        "graph.write_png('tree.png')"
      ]
    },
    {
      "cell_type": "code",
      "execution_count": null,
      "metadata": {
        "colab": {
          "base_uri": "https://localhost:8080/",
          "height": 1000
        },
        "id": "i_VcGsE4aAC3",
        "outputId": "471a07d3-8a1b-461a-f9bd-4322b310f852"
      },
      "outputs": [
        {
          "data": {
            "image/svg+xml": "<?xml version=\"1.0\" encoding=\"UTF-8\" standalone=\"no\"?>\n<!DOCTYPE svg PUBLIC \"-//W3C//DTD SVG 1.1//EN\"\n \"http://www.w3.org/Graphics/SVG/1.1/DTD/svg11.dtd\">\n<!-- Generated by graphviz version 2.43.0 (0)\n -->\n<!-- Title: Tree Pages: 1 -->\n<svg width=\"2449pt\" height=\"997pt\"\n viewBox=\"0.00 0.00 2449.00 997.00\" xmlns=\"http://www.w3.org/2000/svg\" xmlns:xlink=\"http://www.w3.org/1999/xlink\">\n<g id=\"graph0\" class=\"graph\" transform=\"scale(1 1) rotate(0) translate(4 993)\">\n<title>Tree</title>\n<polygon fill=\"white\" stroke=\"transparent\" points=\"-4,4 -4,-993 2445,-993 2445,4 -4,4\"/>\n<!-- 0 -->\n<g id=\"node1\" class=\"node\">\n<title>0</title>\n<path fill=\"none\" stroke=\"black\" d=\"M1704,-989C1704,-989 1603,-989 1603,-989 1597,-989 1591,-983 1591,-977 1591,-977 1591,-933 1591,-933 1591,-927 1597,-921 1603,-921 1603,-921 1704,-921 1704,-921 1710,-921 1716,-927 1716,-933 1716,-933 1716,-977 1716,-977 1716,-983 1710,-989 1704,-989\"/>\n<text text-anchor=\"middle\" x=\"1653.5\" y=\"-973.8\" font-family=\"Helvetica,sans-Serif\" font-size=\"14.00\">Age &lt;= 0.8</text>\n<text text-anchor=\"middle\" x=\"1653.5\" y=\"-958.8\" font-family=\"Helvetica,sans-Serif\" font-size=\"14.00\">gini = 0.5</text>\n<text text-anchor=\"middle\" x=\"1653.5\" y=\"-943.8\" font-family=\"Helvetica,sans-Serif\" font-size=\"14.00\">samples = 201</text>\n<text text-anchor=\"middle\" x=\"1653.5\" y=\"-928.8\" font-family=\"Helvetica,sans-Serif\" font-size=\"14.00\">value = [206, 114]</text>\n</g>\n<!-- 1 -->\n<g id=\"node2\" class=\"node\">\n<title>1</title>\n<path fill=\"none\" stroke=\"black\" d=\"M1345,-885C1345,-885 1252,-885 1252,-885 1246,-885 1240,-879 1240,-873 1240,-873 1240,-829 1240,-829 1240,-823 1246,-817 1252,-817 1252,-817 1345,-817 1345,-817 1351,-817 1357,-823 1357,-829 1357,-829 1357,-873 1357,-873 1357,-879 1351,-885 1345,-885\"/>\n<text text-anchor=\"middle\" x=\"1298.5\" y=\"-869.8\" font-family=\"Helvetica,sans-Serif\" font-size=\"14.00\">Gender &lt;= 0.0</text>\n<text text-anchor=\"middle\" x=\"1298.5\" y=\"-854.8\" font-family=\"Helvetica,sans-Serif\" font-size=\"14.00\">gini = 0.3</text>\n<text text-anchor=\"middle\" x=\"1298.5\" y=\"-839.8\" font-family=\"Helvetica,sans-Serif\" font-size=\"14.00\">samples = 156</text>\n<text text-anchor=\"middle\" x=\"1298.5\" y=\"-824.8\" font-family=\"Helvetica,sans-Serif\" font-size=\"14.00\">value = [201, 45]</text>\n</g>\n<!-- 0&#45;&gt;1 -->\n<g id=\"edge1\" class=\"edge\">\n<title>0&#45;&gt;1</title>\n<path fill=\"none\" stroke=\"black\" d=\"M1590.85,-936C1528.09,-917.97 1431.75,-890.29 1367,-871.68\"/>\n<polygon fill=\"black\" stroke=\"black\" points=\"1367.86,-868.29 1357.28,-868.89 1365.93,-875.01 1367.86,-868.29\"/>\n<text text-anchor=\"middle\" x=\"1369.39\" y=\"-887.06\" font-family=\"Helvetica,sans-Serif\" font-size=\"14.00\">True</text>\n</g>\n<!-- 54 -->\n<g id=\"node55\" class=\"node\">\n<title>54</title>\n<path fill=\"none\" stroke=\"black\" d=\"M1943.5,-885C1943.5,-885 1865.5,-885 1865.5,-885 1859.5,-885 1853.5,-879 1853.5,-873 1853.5,-873 1853.5,-829 1853.5,-829 1853.5,-823 1859.5,-817 1865.5,-817 1865.5,-817 1943.5,-817 1943.5,-817 1949.5,-817 1955.5,-823 1955.5,-829 1955.5,-829 1955.5,-873 1955.5,-873 1955.5,-879 1949.5,-885 1943.5,-885\"/>\n<text text-anchor=\"middle\" x=\"1904.5\" y=\"-869.8\" font-family=\"Helvetica,sans-Serif\" font-size=\"14.00\">Age &lt;= 2.0</text>\n<text text-anchor=\"middle\" x=\"1904.5\" y=\"-854.8\" font-family=\"Helvetica,sans-Serif\" font-size=\"14.00\">gini = 0.1</text>\n<text text-anchor=\"middle\" x=\"1904.5\" y=\"-839.8\" font-family=\"Helvetica,sans-Serif\" font-size=\"14.00\">samples = 45</text>\n<text text-anchor=\"middle\" x=\"1904.5\" y=\"-824.8\" font-family=\"Helvetica,sans-Serif\" font-size=\"14.00\">value = [5, 69]</text>\n</g>\n<!-- 0&#45;&gt;54 -->\n<g id=\"edge54\" class=\"edge\">\n<title>0&#45;&gt;54</title>\n<path fill=\"none\" stroke=\"black\" d=\"M1716.19,-928.52C1755.14,-912.69 1804.97,-892.44 1843.59,-876.75\"/>\n<polygon fill=\"black\" stroke=\"black\" points=\"1845.21,-879.87 1853.15,-872.87 1842.57,-873.39 1845.21,-879.87\"/>\n<text text-anchor=\"middle\" x=\"1843.43\" y=\"-892.2\" font-family=\"Helvetica,sans-Serif\" font-size=\"14.00\">False</text>\n</g>\n<!-- 2 -->\n<g id=\"node3\" class=\"node\">\n<title>2</title>\n<path fill=\"none\" stroke=\"black\" d=\"M854.5,-781C854.5,-781 710.5,-781 710.5,-781 704.5,-781 698.5,-775 698.5,-769 698.5,-769 698.5,-725 698.5,-725 698.5,-719 704.5,-713 710.5,-713 710.5,-713 854.5,-713 854.5,-713 860.5,-713 866.5,-719 866.5,-725 866.5,-725 866.5,-769 866.5,-769 866.5,-775 860.5,-781 854.5,-781\"/>\n<text text-anchor=\"middle\" x=\"782.5\" y=\"-765.8\" font-family=\"Helvetica,sans-Serif\" font-size=\"14.00\">Estimatedataalary &lt;= 0.6</text>\n<text text-anchor=\"middle\" x=\"782.5\" y=\"-750.8\" font-family=\"Helvetica,sans-Serif\" font-size=\"14.00\">gini = 0.3</text>\n<text text-anchor=\"middle\" x=\"782.5\" y=\"-735.8\" font-family=\"Helvetica,sans-Serif\" font-size=\"14.00\">samples = 82</text>\n<text text-anchor=\"middle\" x=\"782.5\" y=\"-720.8\" font-family=\"Helvetica,sans-Serif\" font-size=\"14.00\">value = [108, 21]</text>\n</g>\n<!-- 1&#45;&gt;2 -->\n<g id=\"edge2\" class=\"edge\">\n<title>1&#45;&gt;2</title>\n<path fill=\"none\" stroke=\"black\" d=\"M1239.81,-838.4C1151.27,-820.9 982.66,-787.57 876.77,-766.63\"/>\n<polygon fill=\"black\" stroke=\"black\" points=\"877.21,-763.15 866.72,-764.65 875.85,-770.02 877.21,-763.15\"/>\n</g>\n<!-- 33 -->\n<g id=\"node34\" class=\"node\">\n<title>33</title>\n<path fill=\"none\" stroke=\"black\" d=\"M1341.5,-781C1341.5,-781 1255.5,-781 1255.5,-781 1249.5,-781 1243.5,-775 1243.5,-769 1243.5,-769 1243.5,-725 1243.5,-725 1243.5,-719 1249.5,-713 1255.5,-713 1255.5,-713 1341.5,-713 1341.5,-713 1347.5,-713 1353.5,-719 1353.5,-725 1353.5,-725 1353.5,-769 1353.5,-769 1353.5,-775 1347.5,-781 1341.5,-781\"/>\n<text text-anchor=\"middle\" x=\"1298.5\" y=\"-765.8\" font-family=\"Helvetica,sans-Serif\" font-size=\"14.00\">Age &lt;= 0.4</text>\n<text text-anchor=\"middle\" x=\"1298.5\" y=\"-750.8\" font-family=\"Helvetica,sans-Serif\" font-size=\"14.00\">gini = 0.3</text>\n<text text-anchor=\"middle\" x=\"1298.5\" y=\"-735.8\" font-family=\"Helvetica,sans-Serif\" font-size=\"14.00\">samples = 74</text>\n<text text-anchor=\"middle\" x=\"1298.5\" y=\"-720.8\" font-family=\"Helvetica,sans-Serif\" font-size=\"14.00\">value = [93, 24]</text>\n</g>\n<!-- 1&#45;&gt;33 -->\n<g id=\"edge33\" class=\"edge\">\n<title>1&#45;&gt;33</title>\n<path fill=\"none\" stroke=\"black\" d=\"M1298.5,-816.88C1298.5,-808.78 1298.5,-799.98 1298.5,-791.47\"/>\n<polygon fill=\"black\" stroke=\"black\" points=\"1302,-791.3 1298.5,-781.3 1295,-791.3 1302,-791.3\"/>\n</g>\n<!-- 3 -->\n<g id=\"node4\" class=\"node\">\n<title>3</title>\n<path fill=\"none\" stroke=\"black\" d=\"M447.5,-677C447.5,-677 361.5,-677 361.5,-677 355.5,-677 349.5,-671 349.5,-665 349.5,-665 349.5,-621 349.5,-621 349.5,-615 355.5,-609 361.5,-609 361.5,-609 447.5,-609 447.5,-609 453.5,-609 459.5,-615 459.5,-621 459.5,-621 459.5,-665 459.5,-665 459.5,-671 453.5,-677 447.5,-677\"/>\n<text text-anchor=\"middle\" x=\"404.5\" y=\"-661.8\" font-family=\"Helvetica,sans-Serif\" font-size=\"14.00\">Age &lt;= 0.4</text>\n<text text-anchor=\"middle\" x=\"404.5\" y=\"-646.8\" font-family=\"Helvetica,sans-Serif\" font-size=\"14.00\">gini = 0.1</text>\n<text text-anchor=\"middle\" x=\"404.5\" y=\"-631.8\" font-family=\"Helvetica,sans-Serif\" font-size=\"14.00\">samples = 64</text>\n<text text-anchor=\"middle\" x=\"404.5\" y=\"-616.8\" font-family=\"Helvetica,sans-Serif\" font-size=\"14.00\">value = [101, 4]</text>\n</g>\n<!-- 2&#45;&gt;3 -->\n<g id=\"edge3\" class=\"edge\">\n<title>2&#45;&gt;3</title>\n<path fill=\"none\" stroke=\"black\" d=\"M698.14,-723.24C629.05,-704.59 532.73,-678.6 469.51,-661.54\"/>\n<polygon fill=\"black\" stroke=\"black\" points=\"470.23,-658.11 459.66,-658.89 468.41,-664.87 470.23,-658.11\"/>\n</g>\n<!-- 18 -->\n<g id=\"node19\" class=\"node\">\n<title>18</title>\n<path fill=\"none\" stroke=\"black\" d=\"M854.5,-677C854.5,-677 710.5,-677 710.5,-677 704.5,-677 698.5,-671 698.5,-665 698.5,-665 698.5,-621 698.5,-621 698.5,-615 704.5,-609 710.5,-609 710.5,-609 854.5,-609 854.5,-609 860.5,-609 866.5,-615 866.5,-621 866.5,-621 866.5,-665 866.5,-665 866.5,-671 860.5,-677 854.5,-677\"/>\n<text text-anchor=\"middle\" x=\"782.5\" y=\"-661.8\" font-family=\"Helvetica,sans-Serif\" font-size=\"14.00\">Estimatedataalary &lt;= 1.5</text>\n<text text-anchor=\"middle\" x=\"782.5\" y=\"-646.8\" font-family=\"Helvetica,sans-Serif\" font-size=\"14.00\">gini = 0.4</text>\n<text text-anchor=\"middle\" x=\"782.5\" y=\"-631.8\" font-family=\"Helvetica,sans-Serif\" font-size=\"14.00\">samples = 18</text>\n<text text-anchor=\"middle\" x=\"782.5\" y=\"-616.8\" font-family=\"Helvetica,sans-Serif\" font-size=\"14.00\">value = [7, 17]</text>\n</g>\n<!-- 2&#45;&gt;18 -->\n<g id=\"edge18\" class=\"edge\">\n<title>2&#45;&gt;18</title>\n<path fill=\"none\" stroke=\"black\" d=\"M782.5,-712.88C782.5,-704.78 782.5,-695.98 782.5,-687.47\"/>\n<polygon fill=\"black\" stroke=\"black\" points=\"786,-687.3 782.5,-677.3 779,-687.3 786,-687.3\"/>\n</g>\n<!-- 4 -->\n<g id=\"node5\" class=\"node\">\n<title>4</title>\n<path fill=\"none\" stroke=\"black\" d=\"M287.5,-565.5C287.5,-565.5 209.5,-565.5 209.5,-565.5 203.5,-565.5 197.5,-559.5 197.5,-553.5 197.5,-553.5 197.5,-524.5 197.5,-524.5 197.5,-518.5 203.5,-512.5 209.5,-512.5 209.5,-512.5 287.5,-512.5 287.5,-512.5 293.5,-512.5 299.5,-518.5 299.5,-524.5 299.5,-524.5 299.5,-553.5 299.5,-553.5 299.5,-559.5 293.5,-565.5 287.5,-565.5\"/>\n<text text-anchor=\"middle\" x=\"248.5\" y=\"-550.3\" font-family=\"Helvetica,sans-Serif\" font-size=\"14.00\">gini = 0.0</text>\n<text text-anchor=\"middle\" x=\"248.5\" y=\"-535.3\" font-family=\"Helvetica,sans-Serif\" font-size=\"14.00\">samples = 55</text>\n<text text-anchor=\"middle\" x=\"248.5\" y=\"-520.3\" font-family=\"Helvetica,sans-Serif\" font-size=\"14.00\">value = [91, 0]</text>\n</g>\n<!-- 3&#45;&gt;4 -->\n<g id=\"edge4\" class=\"edge\">\n<title>3&#45;&gt;4</title>\n<path fill=\"none\" stroke=\"black\" d=\"M353.85,-608.88C335.35,-596.79 314.5,-583.15 296.25,-571.22\"/>\n<polygon fill=\"black\" stroke=\"black\" points=\"297.82,-568.06 287.53,-565.52 293.98,-573.92 297.82,-568.06\"/>\n</g>\n<!-- 5 -->\n<g id=\"node6\" class=\"node\">\n<title>5</title>\n<path fill=\"none\" stroke=\"black\" d=\"M479,-573C479,-573 330,-573 330,-573 324,-573 318,-567 318,-561 318,-561 318,-517 318,-517 318,-511 324,-505 330,-505 330,-505 479,-505 479,-505 485,-505 491,-511 491,-517 491,-517 491,-561 491,-561 491,-567 485,-573 479,-573\"/>\n<text text-anchor=\"middle\" x=\"404.5\" y=\"-557.8\" font-family=\"Helvetica,sans-Serif\" font-size=\"14.00\">Estimatedataalary &lt;= &#45;1.3</text>\n<text text-anchor=\"middle\" x=\"404.5\" y=\"-542.8\" font-family=\"Helvetica,sans-Serif\" font-size=\"14.00\">gini = 0.4</text>\n<text text-anchor=\"middle\" x=\"404.5\" y=\"-527.8\" font-family=\"Helvetica,sans-Serif\" font-size=\"14.00\">samples = 9</text>\n<text text-anchor=\"middle\" x=\"404.5\" y=\"-512.8\" font-family=\"Helvetica,sans-Serif\" font-size=\"14.00\">value = [10, 4]</text>\n</g>\n<!-- 3&#45;&gt;5 -->\n<g id=\"edge5\" class=\"edge\">\n<title>3&#45;&gt;5</title>\n<path fill=\"none\" stroke=\"black\" d=\"M404.5,-608.88C404.5,-600.78 404.5,-591.98 404.5,-583.47\"/>\n<polygon fill=\"black\" stroke=\"black\" points=\"408,-583.3 404.5,-573.3 401,-583.3 408,-583.3\"/>\n</g>\n<!-- 6 -->\n<g id=\"node7\" class=\"node\">\n<title>6</title>\n<path fill=\"none\" stroke=\"black\" d=\"M288,-461.5C288,-461.5 217,-461.5 217,-461.5 211,-461.5 205,-455.5 205,-449.5 205,-449.5 205,-420.5 205,-420.5 205,-414.5 211,-408.5 217,-408.5 217,-408.5 288,-408.5 288,-408.5 294,-408.5 300,-414.5 300,-420.5 300,-420.5 300,-449.5 300,-449.5 300,-455.5 294,-461.5 288,-461.5\"/>\n<text text-anchor=\"middle\" x=\"252.5\" y=\"-446.3\" font-family=\"Helvetica,sans-Serif\" font-size=\"14.00\">gini = 0.0</text>\n<text text-anchor=\"middle\" x=\"252.5\" y=\"-431.3\" font-family=\"Helvetica,sans-Serif\" font-size=\"14.00\">samples = 1</text>\n<text text-anchor=\"middle\" x=\"252.5\" y=\"-416.3\" font-family=\"Helvetica,sans-Serif\" font-size=\"14.00\">value = [4, 0]</text>\n</g>\n<!-- 5&#45;&gt;6 -->\n<g id=\"edge6\" class=\"edge\">\n<title>5&#45;&gt;6</title>\n<path fill=\"none\" stroke=\"black\" d=\"M355.15,-504.88C337.12,-492.79 316.8,-479.15 299.03,-467.22\"/>\n<polygon fill=\"black\" stroke=\"black\" points=\"300.78,-464.19 290.53,-461.52 296.88,-470 300.78,-464.19\"/>\n</g>\n<!-- 7 -->\n<g id=\"node8\" class=\"node\">\n<title>7</title>\n<path fill=\"none\" stroke=\"black\" d=\"M479,-469C479,-469 330,-469 330,-469 324,-469 318,-463 318,-457 318,-457 318,-413 318,-413 318,-407 324,-401 330,-401 330,-401 479,-401 479,-401 485,-401 491,-407 491,-413 491,-413 491,-457 491,-457 491,-463 485,-469 479,-469\"/>\n<text text-anchor=\"middle\" x=\"404.5\" y=\"-453.8\" font-family=\"Helvetica,sans-Serif\" font-size=\"14.00\">Estimatedataalary &lt;= &#45;0.4</text>\n<text text-anchor=\"middle\" x=\"404.5\" y=\"-438.8\" font-family=\"Helvetica,sans-Serif\" font-size=\"14.00\">gini = 0.5</text>\n<text text-anchor=\"middle\" x=\"404.5\" y=\"-423.8\" font-family=\"Helvetica,sans-Serif\" font-size=\"14.00\">samples = 8</text>\n<text text-anchor=\"middle\" x=\"404.5\" y=\"-408.8\" font-family=\"Helvetica,sans-Serif\" font-size=\"14.00\">value = [6, 4]</text>\n</g>\n<!-- 5&#45;&gt;7 -->\n<g id=\"edge7\" class=\"edge\">\n<title>5&#45;&gt;7</title>\n<path fill=\"none\" stroke=\"black\" d=\"M404.5,-504.88C404.5,-496.78 404.5,-487.98 404.5,-479.47\"/>\n<polygon fill=\"black\" stroke=\"black\" points=\"408,-479.3 404.5,-469.3 401,-479.3 408,-479.3\"/>\n</g>\n<!-- 8 -->\n<g id=\"node9\" class=\"node\">\n<title>8</title>\n<path fill=\"none\" stroke=\"black\" d=\"M290,-365C290,-365 141,-365 141,-365 135,-365 129,-359 129,-353 129,-353 129,-309 129,-309 129,-303 135,-297 141,-297 141,-297 290,-297 290,-297 296,-297 302,-303 302,-309 302,-309 302,-353 302,-353 302,-359 296,-365 290,-365\"/>\n<text text-anchor=\"middle\" x=\"215.5\" y=\"-349.8\" font-family=\"Helvetica,sans-Serif\" font-size=\"14.00\">Estimatedataalary &lt;= &#45;0.9</text>\n<text text-anchor=\"middle\" x=\"215.5\" y=\"-334.8\" font-family=\"Helvetica,sans-Serif\" font-size=\"14.00\">gini = 0.5</text>\n<text text-anchor=\"middle\" x=\"215.5\" y=\"-319.8\" font-family=\"Helvetica,sans-Serif\" font-size=\"14.00\">samples = 3</text>\n<text text-anchor=\"middle\" x=\"215.5\" y=\"-304.8\" font-family=\"Helvetica,sans-Serif\" font-size=\"14.00\">value = [2, 3]</text>\n</g>\n<!-- 7&#45;&gt;8 -->\n<g id=\"edge8\" class=\"edge\">\n<title>7&#45;&gt;8</title>\n<path fill=\"none\" stroke=\"black\" d=\"M343.14,-400.88C324.81,-390.99 304.57,-380.07 285.72,-369.9\"/>\n<polygon fill=\"black\" stroke=\"black\" points=\"287.34,-366.79 276.88,-365.12 284.02,-372.95 287.34,-366.79\"/>\n</g>\n<!-- 13 -->\n<g id=\"node14\" class=\"node\">\n<title>13</title>\n<path fill=\"none\" stroke=\"black\" d=\"M476.5,-365C476.5,-365 332.5,-365 332.5,-365 326.5,-365 320.5,-359 320.5,-353 320.5,-353 320.5,-309 320.5,-309 320.5,-303 326.5,-297 332.5,-297 332.5,-297 476.5,-297 476.5,-297 482.5,-297 488.5,-303 488.5,-309 488.5,-309 488.5,-353 488.5,-353 488.5,-359 482.5,-365 476.5,-365\"/>\n<text text-anchor=\"middle\" x=\"404.5\" y=\"-349.8\" font-family=\"Helvetica,sans-Serif\" font-size=\"14.00\">Estimatedataalary &lt;= 0.2</text>\n<text text-anchor=\"middle\" x=\"404.5\" y=\"-334.8\" font-family=\"Helvetica,sans-Serif\" font-size=\"14.00\">gini = 0.3</text>\n<text text-anchor=\"middle\" x=\"404.5\" y=\"-319.8\" font-family=\"Helvetica,sans-Serif\" font-size=\"14.00\">samples = 5</text>\n<text text-anchor=\"middle\" x=\"404.5\" y=\"-304.8\" font-family=\"Helvetica,sans-Serif\" font-size=\"14.00\">value = [4, 1]</text>\n</g>\n<!-- 7&#45;&gt;13 -->\n<g id=\"edge13\" class=\"edge\">\n<title>7&#45;&gt;13</title>\n<path fill=\"none\" stroke=\"black\" d=\"M404.5,-400.88C404.5,-392.78 404.5,-383.98 404.5,-375.47\"/>\n<polygon fill=\"black\" stroke=\"black\" points=\"408,-375.3 404.5,-365.3 401,-375.3 408,-375.3\"/>\n</g>\n<!-- 9 -->\n<g id=\"node10\" class=\"node\">\n<title>9</title>\n<path fill=\"none\" stroke=\"black\" d=\"M139,-261C139,-261 68,-261 68,-261 62,-261 56,-255 56,-249 56,-249 56,-205 56,-205 56,-199 62,-193 68,-193 68,-193 139,-193 139,-193 145,-193 151,-199 151,-205 151,-205 151,-249 151,-249 151,-255 145,-261 139,-261\"/>\n<text text-anchor=\"middle\" x=\"103.5\" y=\"-245.8\" font-family=\"Helvetica,sans-Serif\" font-size=\"14.00\">Age &lt;= 0.7</text>\n<text text-anchor=\"middle\" x=\"103.5\" y=\"-230.8\" font-family=\"Helvetica,sans-Serif\" font-size=\"14.00\">gini = 0.4</text>\n<text text-anchor=\"middle\" x=\"103.5\" y=\"-215.8\" font-family=\"Helvetica,sans-Serif\" font-size=\"14.00\">samples = 2</text>\n<text text-anchor=\"middle\" x=\"103.5\" y=\"-200.8\" font-family=\"Helvetica,sans-Serif\" font-size=\"14.00\">value = [2, 1]</text>\n</g>\n<!-- 8&#45;&gt;9 -->\n<g id=\"edge9\" class=\"edge\">\n<title>8&#45;&gt;9</title>\n<path fill=\"none\" stroke=\"black\" d=\"M179.14,-296.88C169.06,-287.71 158.02,-277.65 147.56,-268.12\"/>\n<polygon fill=\"black\" stroke=\"black\" points=\"149.81,-265.44 140.06,-261.3 145.1,-270.62 149.81,-265.44\"/>\n</g>\n<!-- 12 -->\n<g id=\"node13\" class=\"node\">\n<title>12</title>\n<path fill=\"none\" stroke=\"black\" d=\"M252,-253.5C252,-253.5 181,-253.5 181,-253.5 175,-253.5 169,-247.5 169,-241.5 169,-241.5 169,-212.5 169,-212.5 169,-206.5 175,-200.5 181,-200.5 181,-200.5 252,-200.5 252,-200.5 258,-200.5 264,-206.5 264,-212.5 264,-212.5 264,-241.5 264,-241.5 264,-247.5 258,-253.5 252,-253.5\"/>\n<text text-anchor=\"middle\" x=\"216.5\" y=\"-238.3\" font-family=\"Helvetica,sans-Serif\" font-size=\"14.00\">gini = 0.0</text>\n<text text-anchor=\"middle\" x=\"216.5\" y=\"-223.3\" font-family=\"Helvetica,sans-Serif\" font-size=\"14.00\">samples = 1</text>\n<text text-anchor=\"middle\" x=\"216.5\" y=\"-208.3\" font-family=\"Helvetica,sans-Serif\" font-size=\"14.00\">value = [0, 2]</text>\n</g>\n<!-- 8&#45;&gt;12 -->\n<g id=\"edge12\" class=\"edge\">\n<title>8&#45;&gt;12</title>\n<path fill=\"none\" stroke=\"black\" d=\"M215.82,-296.88C215.93,-286.33 216.04,-274.6 216.15,-263.85\"/>\n<polygon fill=\"black\" stroke=\"black\" points=\"219.65,-263.55 216.25,-253.52 212.65,-263.49 219.65,-263.55\"/>\n</g>\n<!-- 10 -->\n<g id=\"node11\" class=\"node\">\n<title>10</title>\n<path fill=\"none\" stroke=\"black\" d=\"M83,-149.5C83,-149.5 12,-149.5 12,-149.5 6,-149.5 0,-143.5 0,-137.5 0,-137.5 0,-108.5 0,-108.5 0,-102.5 6,-96.5 12,-96.5 12,-96.5 83,-96.5 83,-96.5 89,-96.5 95,-102.5 95,-108.5 95,-108.5 95,-137.5 95,-137.5 95,-143.5 89,-149.5 83,-149.5\"/>\n<text text-anchor=\"middle\" x=\"47.5\" y=\"-134.3\" font-family=\"Helvetica,sans-Serif\" font-size=\"14.00\">gini = 0.0</text>\n<text text-anchor=\"middle\" x=\"47.5\" y=\"-119.3\" font-family=\"Helvetica,sans-Serif\" font-size=\"14.00\">samples = 1</text>\n<text text-anchor=\"middle\" x=\"47.5\" y=\"-104.3\" font-family=\"Helvetica,sans-Serif\" font-size=\"14.00\">value = [2, 0]</text>\n</g>\n<!-- 9&#45;&gt;10 -->\n<g id=\"edge10\" class=\"edge\">\n<title>9&#45;&gt;10</title>\n<path fill=\"none\" stroke=\"black\" d=\"M85.32,-192.88C79.28,-181.89 72.54,-169.62 66.45,-158.52\"/>\n<polygon fill=\"black\" stroke=\"black\" points=\"69.39,-156.6 61.51,-149.52 63.26,-159.97 69.39,-156.6\"/>\n</g>\n<!-- 11 -->\n<g id=\"node12\" class=\"node\">\n<title>11</title>\n<path fill=\"none\" stroke=\"black\" d=\"M196,-149.5C196,-149.5 125,-149.5 125,-149.5 119,-149.5 113,-143.5 113,-137.5 113,-137.5 113,-108.5 113,-108.5 113,-102.5 119,-96.5 125,-96.5 125,-96.5 196,-96.5 196,-96.5 202,-96.5 208,-102.5 208,-108.5 208,-108.5 208,-137.5 208,-137.5 208,-143.5 202,-149.5 196,-149.5\"/>\n<text text-anchor=\"middle\" x=\"160.5\" y=\"-134.3\" font-family=\"Helvetica,sans-Serif\" font-size=\"14.00\">gini = 0.0</text>\n<text text-anchor=\"middle\" x=\"160.5\" y=\"-119.3\" font-family=\"Helvetica,sans-Serif\" font-size=\"14.00\">samples = 1</text>\n<text text-anchor=\"middle\" x=\"160.5\" y=\"-104.3\" font-family=\"Helvetica,sans-Serif\" font-size=\"14.00\">value = [0, 1]</text>\n</g>\n<!-- 9&#45;&gt;11 -->\n<g id=\"edge11\" class=\"edge\">\n<title>9&#45;&gt;11</title>\n<path fill=\"none\" stroke=\"black\" d=\"M122.01,-192.88C128.15,-181.89 135.01,-169.62 141.21,-158.52\"/>\n<polygon fill=\"black\" stroke=\"black\" points=\"144.42,-159.96 146.24,-149.52 138.31,-156.54 144.42,-159.96\"/>\n</g>\n<!-- 14 -->\n<g id=\"node15\" class=\"node\">\n<title>14</title>\n<path fill=\"none\" stroke=\"black\" d=\"M373,-253.5C373,-253.5 302,-253.5 302,-253.5 296,-253.5 290,-247.5 290,-241.5 290,-241.5 290,-212.5 290,-212.5 290,-206.5 296,-200.5 302,-200.5 302,-200.5 373,-200.5 373,-200.5 379,-200.5 385,-206.5 385,-212.5 385,-212.5 385,-241.5 385,-241.5 385,-247.5 379,-253.5 373,-253.5\"/>\n<text text-anchor=\"middle\" x=\"337.5\" y=\"-238.3\" font-family=\"Helvetica,sans-Serif\" font-size=\"14.00\">gini = 0.0</text>\n<text text-anchor=\"middle\" x=\"337.5\" y=\"-223.3\" font-family=\"Helvetica,sans-Serif\" font-size=\"14.00\">samples = 3</text>\n<text text-anchor=\"middle\" x=\"337.5\" y=\"-208.3\" font-family=\"Helvetica,sans-Serif\" font-size=\"14.00\">value = [3, 0]</text>\n</g>\n<!-- 13&#45;&gt;14 -->\n<g id=\"edge14\" class=\"edge\">\n<title>13&#45;&gt;14</title>\n<path fill=\"none\" stroke=\"black\" d=\"M382.75,-296.88C375.45,-285.78 367.3,-273.37 359.95,-262.18\"/>\n<polygon fill=\"black\" stroke=\"black\" points=\"362.68,-259.96 354.26,-253.52 356.83,-263.8 362.68,-259.96\"/>\n</g>\n<!-- 15 -->\n<g id=\"node16\" class=\"node\">\n<title>15</title>\n<path fill=\"none\" stroke=\"black\" d=\"M486,-261C486,-261 415,-261 415,-261 409,-261 403,-255 403,-249 403,-249 403,-205 403,-205 403,-199 409,-193 415,-193 415,-193 486,-193 486,-193 492,-193 498,-199 498,-205 498,-205 498,-249 498,-249 498,-255 492,-261 486,-261\"/>\n<text text-anchor=\"middle\" x=\"450.5\" y=\"-245.8\" font-family=\"Helvetica,sans-Serif\" font-size=\"14.00\">Age &lt;= 0.6</text>\n<text text-anchor=\"middle\" x=\"450.5\" y=\"-230.8\" font-family=\"Helvetica,sans-Serif\" font-size=\"14.00\">gini = 0.5</text>\n<text text-anchor=\"middle\" x=\"450.5\" y=\"-215.8\" font-family=\"Helvetica,sans-Serif\" font-size=\"14.00\">samples = 2</text>\n<text text-anchor=\"middle\" x=\"450.5\" y=\"-200.8\" font-family=\"Helvetica,sans-Serif\" font-size=\"14.00\">value = [1, 1]</text>\n</g>\n<!-- 13&#45;&gt;15 -->\n<g id=\"edge15\" class=\"edge\">\n<title>13&#45;&gt;15</title>\n<path fill=\"none\" stroke=\"black\" d=\"M419.43,-296.88C423.21,-288.51 427.32,-279.4 431.27,-270.63\"/>\n<polygon fill=\"black\" stroke=\"black\" points=\"434.56,-271.85 435.48,-261.3 428.18,-268.98 434.56,-271.85\"/>\n</g>\n<!-- 16 -->\n<g id=\"node17\" class=\"node\">\n<title>16</title>\n<path fill=\"none\" stroke=\"black\" d=\"M430,-149.5C430,-149.5 359,-149.5 359,-149.5 353,-149.5 347,-143.5 347,-137.5 347,-137.5 347,-108.5 347,-108.5 347,-102.5 353,-96.5 359,-96.5 359,-96.5 430,-96.5 430,-96.5 436,-96.5 442,-102.5 442,-108.5 442,-108.5 442,-137.5 442,-137.5 442,-143.5 436,-149.5 430,-149.5\"/>\n<text text-anchor=\"middle\" x=\"394.5\" y=\"-134.3\" font-family=\"Helvetica,sans-Serif\" font-size=\"14.00\">gini = 0.0</text>\n<text text-anchor=\"middle\" x=\"394.5\" y=\"-119.3\" font-family=\"Helvetica,sans-Serif\" font-size=\"14.00\">samples = 1</text>\n<text text-anchor=\"middle\" x=\"394.5\" y=\"-104.3\" font-family=\"Helvetica,sans-Serif\" font-size=\"14.00\">value = [0, 1]</text>\n</g>\n<!-- 15&#45;&gt;16 -->\n<g id=\"edge16\" class=\"edge\">\n<title>15&#45;&gt;16</title>\n<path fill=\"none\" stroke=\"black\" d=\"M432.32,-192.88C426.28,-181.89 419.54,-169.62 413.45,-158.52\"/>\n<polygon fill=\"black\" stroke=\"black\" points=\"416.39,-156.6 408.51,-149.52 410.26,-159.97 416.39,-156.6\"/>\n</g>\n<!-- 17 -->\n<g id=\"node18\" class=\"node\">\n<title>17</title>\n<path fill=\"none\" stroke=\"black\" d=\"M543,-149.5C543,-149.5 472,-149.5 472,-149.5 466,-149.5 460,-143.5 460,-137.5 460,-137.5 460,-108.5 460,-108.5 460,-102.5 466,-96.5 472,-96.5 472,-96.5 543,-96.5 543,-96.5 549,-96.5 555,-102.5 555,-108.5 555,-108.5 555,-137.5 555,-137.5 555,-143.5 549,-149.5 543,-149.5\"/>\n<text text-anchor=\"middle\" x=\"507.5\" y=\"-134.3\" font-family=\"Helvetica,sans-Serif\" font-size=\"14.00\">gini = 0.0</text>\n<text text-anchor=\"middle\" x=\"507.5\" y=\"-119.3\" font-family=\"Helvetica,sans-Serif\" font-size=\"14.00\">samples = 1</text>\n<text text-anchor=\"middle\" x=\"507.5\" y=\"-104.3\" font-family=\"Helvetica,sans-Serif\" font-size=\"14.00\">value = [1, 0]</text>\n</g>\n<!-- 15&#45;&gt;17 -->\n<g id=\"edge17\" class=\"edge\">\n<title>15&#45;&gt;17</title>\n<path fill=\"none\" stroke=\"black\" d=\"M469.01,-192.88C475.15,-181.89 482.01,-169.62 488.21,-158.52\"/>\n<polygon fill=\"black\" stroke=\"black\" points=\"491.42,-159.96 493.24,-149.52 485.31,-156.54 491.42,-159.96\"/>\n</g>\n<!-- 19 -->\n<g id=\"node20\" class=\"node\">\n<title>19</title>\n<path fill=\"none\" stroke=\"black\" d=\"M760.5,-573C760.5,-573 686.5,-573 686.5,-573 680.5,-573 674.5,-567 674.5,-561 674.5,-561 674.5,-517 674.5,-517 674.5,-511 680.5,-505 686.5,-505 686.5,-505 760.5,-505 760.5,-505 766.5,-505 772.5,-511 772.5,-517 772.5,-517 772.5,-561 772.5,-561 772.5,-567 766.5,-573 760.5,-573\"/>\n<text text-anchor=\"middle\" x=\"723.5\" y=\"-557.8\" font-family=\"Helvetica,sans-Serif\" font-size=\"14.00\">Age &lt;= &#45;0.3</text>\n<text text-anchor=\"middle\" x=\"723.5\" y=\"-542.8\" font-family=\"Helvetica,sans-Serif\" font-size=\"14.00\">gini = 0.5</text>\n<text text-anchor=\"middle\" x=\"723.5\" y=\"-527.8\" font-family=\"Helvetica,sans-Serif\" font-size=\"14.00\">samples = 10</text>\n<text text-anchor=\"middle\" x=\"723.5\" y=\"-512.8\" font-family=\"Helvetica,sans-Serif\" font-size=\"14.00\">value = [7, 6]</text>\n</g>\n<!-- 18&#45;&gt;19 -->\n<g id=\"edge19\" class=\"edge\">\n<title>18&#45;&gt;19</title>\n<path fill=\"none\" stroke=\"black\" d=\"M763.34,-608.88C758.4,-600.33 753.01,-591.01 747.84,-582.07\"/>\n<polygon fill=\"black\" stroke=\"black\" points=\"750.8,-580.2 742.76,-573.3 744.74,-583.71 750.8,-580.2\"/>\n</g>\n<!-- 32 -->\n<g id=\"node33\" class=\"node\">\n<title>32</title>\n<path fill=\"none\" stroke=\"black\" d=\"M880.5,-565.5C880.5,-565.5 802.5,-565.5 802.5,-565.5 796.5,-565.5 790.5,-559.5 790.5,-553.5 790.5,-553.5 790.5,-524.5 790.5,-524.5 790.5,-518.5 796.5,-512.5 802.5,-512.5 802.5,-512.5 880.5,-512.5 880.5,-512.5 886.5,-512.5 892.5,-518.5 892.5,-524.5 892.5,-524.5 892.5,-553.5 892.5,-553.5 892.5,-559.5 886.5,-565.5 880.5,-565.5\"/>\n<text text-anchor=\"middle\" x=\"841.5\" y=\"-550.3\" font-family=\"Helvetica,sans-Serif\" font-size=\"14.00\">gini = 0.0</text>\n<text text-anchor=\"middle\" x=\"841.5\" y=\"-535.3\" font-family=\"Helvetica,sans-Serif\" font-size=\"14.00\">samples = 8</text>\n<text text-anchor=\"middle\" x=\"841.5\" y=\"-520.3\" font-family=\"Helvetica,sans-Serif\" font-size=\"14.00\">value = [0, 11]</text>\n</g>\n<!-- 18&#45;&gt;32 -->\n<g id=\"edge32\" class=\"edge\">\n<title>18&#45;&gt;32</title>\n<path fill=\"none\" stroke=\"black\" d=\"M801.66,-608.88C808.08,-597.78 815.26,-585.37 821.73,-574.18\"/>\n<polygon fill=\"black\" stroke=\"black\" points=\"824.76,-575.93 826.74,-565.52 818.7,-572.42 824.76,-575.93\"/>\n</g>\n<!-- 20 -->\n<g id=\"node21\" class=\"node\">\n<title>20</title>\n<path fill=\"none\" stroke=\"black\" d=\"M684,-469C684,-469 613,-469 613,-469 607,-469 601,-463 601,-457 601,-457 601,-413 601,-413 601,-407 607,-401 613,-401 613,-401 684,-401 684,-401 690,-401 696,-407 696,-413 696,-413 696,-457 696,-457 696,-463 690,-469 684,-469\"/>\n<text text-anchor=\"middle\" x=\"648.5\" y=\"-453.8\" font-family=\"Helvetica,sans-Serif\" font-size=\"14.00\">Age &lt;= &#45;0.7</text>\n<text text-anchor=\"middle\" x=\"648.5\" y=\"-438.8\" font-family=\"Helvetica,sans-Serif\" font-size=\"14.00\">gini = 0.3</text>\n<text text-anchor=\"middle\" x=\"648.5\" y=\"-423.8\" font-family=\"Helvetica,sans-Serif\" font-size=\"14.00\">samples = 4</text>\n<text text-anchor=\"middle\" x=\"648.5\" y=\"-408.8\" font-family=\"Helvetica,sans-Serif\" font-size=\"14.00\">value = [5, 1]</text>\n</g>\n<!-- 19&#45;&gt;20 -->\n<g id=\"edge20\" class=\"edge\">\n<title>19&#45;&gt;20</title>\n<path fill=\"none\" stroke=\"black\" d=\"M699.15,-504.88C692.73,-496.15 685.72,-486.62 679.02,-477.51\"/>\n<polygon fill=\"black\" stroke=\"black\" points=\"681.73,-475.28 672.98,-469.3 676.09,-479.43 681.73,-475.28\"/>\n</g>\n<!-- 25 -->\n<g id=\"node26\" class=\"node\">\n<title>25</title>\n<path fill=\"none\" stroke=\"black\" d=\"M870.5,-469C870.5,-469 726.5,-469 726.5,-469 720.5,-469 714.5,-463 714.5,-457 714.5,-457 714.5,-413 714.5,-413 714.5,-407 720.5,-401 726.5,-401 726.5,-401 870.5,-401 870.5,-401 876.5,-401 882.5,-407 882.5,-413 882.5,-413 882.5,-457 882.5,-457 882.5,-463 876.5,-469 870.5,-469\"/>\n<text text-anchor=\"middle\" x=\"798.5\" y=\"-453.8\" font-family=\"Helvetica,sans-Serif\" font-size=\"14.00\">Estimatedataalary &lt;= 0.7</text>\n<text text-anchor=\"middle\" x=\"798.5\" y=\"-438.8\" font-family=\"Helvetica,sans-Serif\" font-size=\"14.00\">gini = 0.4</text>\n<text text-anchor=\"middle\" x=\"798.5\" y=\"-423.8\" font-family=\"Helvetica,sans-Serif\" font-size=\"14.00\">samples = 6</text>\n<text text-anchor=\"middle\" x=\"798.5\" y=\"-408.8\" font-family=\"Helvetica,sans-Serif\" font-size=\"14.00\">value = [2, 5]</text>\n</g>\n<!-- 19&#45;&gt;25 -->\n<g id=\"edge25\" class=\"edge\">\n<title>19&#45;&gt;25</title>\n<path fill=\"none\" stroke=\"black\" d=\"M747.85,-504.88C754.27,-496.15 761.28,-486.62 767.98,-477.51\"/>\n<polygon fill=\"black\" stroke=\"black\" points=\"770.91,-479.43 774.02,-469.3 765.27,-475.28 770.91,-479.43\"/>\n</g>\n<!-- 21 -->\n<g id=\"node22\" class=\"node\">\n<title>21</title>\n<path fill=\"none\" stroke=\"black\" d=\"M590,-357.5C590,-357.5 519,-357.5 519,-357.5 513,-357.5 507,-351.5 507,-345.5 507,-345.5 507,-316.5 507,-316.5 507,-310.5 513,-304.5 519,-304.5 519,-304.5 590,-304.5 590,-304.5 596,-304.5 602,-310.5 602,-316.5 602,-316.5 602,-345.5 602,-345.5 602,-351.5 596,-357.5 590,-357.5\"/>\n<text text-anchor=\"middle\" x=\"554.5\" y=\"-342.3\" font-family=\"Helvetica,sans-Serif\" font-size=\"14.00\">gini = 0.0</text>\n<text text-anchor=\"middle\" x=\"554.5\" y=\"-327.3\" font-family=\"Helvetica,sans-Serif\" font-size=\"14.00\">samples = 2</text>\n<text text-anchor=\"middle\" x=\"554.5\" y=\"-312.3\" font-family=\"Helvetica,sans-Serif\" font-size=\"14.00\">value = [3, 0]</text>\n</g>\n<!-- 20&#45;&gt;21 -->\n<g id=\"edge21\" class=\"edge\">\n<title>20&#45;&gt;21</title>\n<path fill=\"none\" stroke=\"black\" d=\"M617.98,-400.88C607.44,-389.45 595.63,-376.63 585.09,-365.19\"/>\n<polygon fill=\"black\" stroke=\"black\" points=\"587.37,-362.5 578.02,-357.52 582.22,-367.25 587.37,-362.5\"/>\n</g>\n<!-- 22 -->\n<g id=\"node23\" class=\"node\">\n<title>22</title>\n<path fill=\"none\" stroke=\"black\" d=\"M703,-365C703,-365 632,-365 632,-365 626,-365 620,-359 620,-353 620,-353 620,-309 620,-309 620,-303 626,-297 632,-297 632,-297 703,-297 703,-297 709,-297 715,-303 715,-309 715,-309 715,-353 715,-353 715,-359 709,-365 703,-365\"/>\n<text text-anchor=\"middle\" x=\"667.5\" y=\"-349.8\" font-family=\"Helvetica,sans-Serif\" font-size=\"14.00\">Age &lt;= &#45;0.6</text>\n<text text-anchor=\"middle\" x=\"667.5\" y=\"-334.8\" font-family=\"Helvetica,sans-Serif\" font-size=\"14.00\">gini = 0.4</text>\n<text text-anchor=\"middle\" x=\"667.5\" y=\"-319.8\" font-family=\"Helvetica,sans-Serif\" font-size=\"14.00\">samples = 2</text>\n<text text-anchor=\"middle\" x=\"667.5\" y=\"-304.8\" font-family=\"Helvetica,sans-Serif\" font-size=\"14.00\">value = [2, 1]</text>\n</g>\n<!-- 20&#45;&gt;22 -->\n<g id=\"edge22\" class=\"edge\">\n<title>20&#45;&gt;22</title>\n<path fill=\"none\" stroke=\"black\" d=\"M654.67,-400.88C656.2,-392.69 657.85,-383.79 659.45,-375.19\"/>\n<polygon fill=\"black\" stroke=\"black\" points=\"662.91,-375.77 661.3,-365.3 656.03,-374.49 662.91,-375.77\"/>\n</g>\n<!-- 23 -->\n<g id=\"node24\" class=\"node\">\n<title>23</title>\n<path fill=\"none\" stroke=\"black\" d=\"M603,-253.5C603,-253.5 532,-253.5 532,-253.5 526,-253.5 520,-247.5 520,-241.5 520,-241.5 520,-212.5 520,-212.5 520,-206.5 526,-200.5 532,-200.5 532,-200.5 603,-200.5 603,-200.5 609,-200.5 615,-206.5 615,-212.5 615,-212.5 615,-241.5 615,-241.5 615,-247.5 609,-253.5 603,-253.5\"/>\n<text text-anchor=\"middle\" x=\"567.5\" y=\"-238.3\" font-family=\"Helvetica,sans-Serif\" font-size=\"14.00\">gini = 0.0</text>\n<text text-anchor=\"middle\" x=\"567.5\" y=\"-223.3\" font-family=\"Helvetica,sans-Serif\" font-size=\"14.00\">samples = 1</text>\n<text text-anchor=\"middle\" x=\"567.5\" y=\"-208.3\" font-family=\"Helvetica,sans-Serif\" font-size=\"14.00\">value = [0, 1]</text>\n</g>\n<!-- 22&#45;&gt;23 -->\n<g id=\"edge23\" class=\"edge\">\n<title>22&#45;&gt;23</title>\n<path fill=\"none\" stroke=\"black\" d=\"M635.03,-296.88C623.71,-285.34 611.02,-272.39 599.72,-260.86\"/>\n<polygon fill=\"black\" stroke=\"black\" points=\"602.02,-258.21 592.52,-253.52 597.02,-263.11 602.02,-258.21\"/>\n</g>\n<!-- 24 -->\n<g id=\"node25\" class=\"node\">\n<title>24</title>\n<path fill=\"none\" stroke=\"black\" d=\"M716,-253.5C716,-253.5 645,-253.5 645,-253.5 639,-253.5 633,-247.5 633,-241.5 633,-241.5 633,-212.5 633,-212.5 633,-206.5 639,-200.5 645,-200.5 645,-200.5 716,-200.5 716,-200.5 722,-200.5 728,-206.5 728,-212.5 728,-212.5 728,-241.5 728,-241.5 728,-247.5 722,-253.5 716,-253.5\"/>\n<text text-anchor=\"middle\" x=\"680.5\" y=\"-238.3\" font-family=\"Helvetica,sans-Serif\" font-size=\"14.00\">gini = 0.0</text>\n<text text-anchor=\"middle\" x=\"680.5\" y=\"-223.3\" font-family=\"Helvetica,sans-Serif\" font-size=\"14.00\">samples = 1</text>\n<text text-anchor=\"middle\" x=\"680.5\" y=\"-208.3\" font-family=\"Helvetica,sans-Serif\" font-size=\"14.00\">value = [2, 0]</text>\n</g>\n<!-- 22&#45;&gt;24 -->\n<g id=\"edge24\" class=\"edge\">\n<title>22&#45;&gt;24</title>\n<path fill=\"none\" stroke=\"black\" d=\"M671.72,-296.88C673.08,-286.22 674.59,-274.35 675.97,-263.52\"/>\n<polygon fill=\"black\" stroke=\"black\" points=\"679.46,-263.88 677.25,-253.52 672.51,-263 679.46,-263.88\"/>\n</g>\n<!-- 26 -->\n<g id=\"node27\" class=\"node\">\n<title>26</title>\n<path fill=\"none\" stroke=\"black\" d=\"M816,-357.5C816,-357.5 745,-357.5 745,-357.5 739,-357.5 733,-351.5 733,-345.5 733,-345.5 733,-316.5 733,-316.5 733,-310.5 739,-304.5 745,-304.5 745,-304.5 816,-304.5 816,-304.5 822,-304.5 828,-310.5 828,-316.5 828,-316.5 828,-345.5 828,-345.5 828,-351.5 822,-357.5 816,-357.5\"/>\n<text text-anchor=\"middle\" x=\"780.5\" y=\"-342.3\" font-family=\"Helvetica,sans-Serif\" font-size=\"14.00\">gini = 0.0</text>\n<text text-anchor=\"middle\" x=\"780.5\" y=\"-327.3\" font-family=\"Helvetica,sans-Serif\" font-size=\"14.00\">samples = 2</text>\n<text text-anchor=\"middle\" x=\"780.5\" y=\"-312.3\" font-family=\"Helvetica,sans-Serif\" font-size=\"14.00\">value = [0, 3]</text>\n</g>\n<!-- 25&#45;&gt;26 -->\n<g id=\"edge26\" class=\"edge\">\n<title>25&#45;&gt;26</title>\n<path fill=\"none\" stroke=\"black\" d=\"M792.66,-400.88C790.77,-390.22 788.68,-378.35 786.77,-367.52\"/>\n<polygon fill=\"black\" stroke=\"black\" points=\"790.19,-366.76 785,-357.52 783.29,-367.98 790.19,-366.76\"/>\n</g>\n<!-- 27 -->\n<g id=\"node28\" class=\"node\">\n<title>27</title>\n<path fill=\"none\" stroke=\"black\" d=\"M929,-365C929,-365 858,-365 858,-365 852,-365 846,-359 846,-353 846,-353 846,-309 846,-309 846,-303 852,-297 858,-297 858,-297 929,-297 929,-297 935,-297 941,-303 941,-309 941,-309 941,-353 941,-353 941,-359 935,-365 929,-365\"/>\n<text text-anchor=\"middle\" x=\"893.5\" y=\"-349.8\" font-family=\"Helvetica,sans-Serif\" font-size=\"14.00\">Age &lt;= 0.2</text>\n<text text-anchor=\"middle\" x=\"893.5\" y=\"-334.8\" font-family=\"Helvetica,sans-Serif\" font-size=\"14.00\">gini = 0.5</text>\n<text text-anchor=\"middle\" x=\"893.5\" y=\"-319.8\" font-family=\"Helvetica,sans-Serif\" font-size=\"14.00\">samples = 4</text>\n<text text-anchor=\"middle\" x=\"893.5\" y=\"-304.8\" font-family=\"Helvetica,sans-Serif\" font-size=\"14.00\">value = [2, 2]</text>\n</g>\n<!-- 25&#45;&gt;27 -->\n<g id=\"edge27\" class=\"edge\">\n<title>25&#45;&gt;27</title>\n<path fill=\"none\" stroke=\"black\" d=\"M829.34,-400.88C837.72,-391.89 846.89,-382.04 855.61,-372.68\"/>\n<polygon fill=\"black\" stroke=\"black\" points=\"858.23,-375 862.49,-365.3 853.11,-370.23 858.23,-375\"/>\n</g>\n<!-- 28 -->\n<g id=\"node29\" class=\"node\">\n<title>28</title>\n<path fill=\"none\" stroke=\"black\" d=\"M831,-253.5C831,-253.5 760,-253.5 760,-253.5 754,-253.5 748,-247.5 748,-241.5 748,-241.5 748,-212.5 748,-212.5 748,-206.5 754,-200.5 760,-200.5 760,-200.5 831,-200.5 831,-200.5 837,-200.5 843,-206.5 843,-212.5 843,-212.5 843,-241.5 843,-241.5 843,-247.5 837,-253.5 831,-253.5\"/>\n<text text-anchor=\"middle\" x=\"795.5\" y=\"-238.3\" font-family=\"Helvetica,sans-Serif\" font-size=\"14.00\">gini = 0.0</text>\n<text text-anchor=\"middle\" x=\"795.5\" y=\"-223.3\" font-family=\"Helvetica,sans-Serif\" font-size=\"14.00\">samples = 1</text>\n<text text-anchor=\"middle\" x=\"795.5\" y=\"-208.3\" font-family=\"Helvetica,sans-Serif\" font-size=\"14.00\">value = [1, 0]</text>\n</g>\n<!-- 27&#45;&gt;28 -->\n<g id=\"edge28\" class=\"edge\">\n<title>27&#45;&gt;28</title>\n<path fill=\"none\" stroke=\"black\" d=\"M861.68,-296.88C850.59,-285.34 838.15,-272.39 827.07,-260.86\"/>\n<polygon fill=\"black\" stroke=\"black\" points=\"829.47,-258.31 820.02,-253.52 824.42,-263.16 829.47,-258.31\"/>\n</g>\n<!-- 29 -->\n<g id=\"node30\" class=\"node\">\n<title>29</title>\n<path fill=\"none\" stroke=\"black\" d=\"M1017.5,-261C1017.5,-261 873.5,-261 873.5,-261 867.5,-261 861.5,-255 861.5,-249 861.5,-249 861.5,-205 861.5,-205 861.5,-199 867.5,-193 873.5,-193 873.5,-193 1017.5,-193 1017.5,-193 1023.5,-193 1029.5,-199 1029.5,-205 1029.5,-205 1029.5,-249 1029.5,-249 1029.5,-255 1023.5,-261 1017.5,-261\"/>\n<text text-anchor=\"middle\" x=\"945.5\" y=\"-245.8\" font-family=\"Helvetica,sans-Serif\" font-size=\"14.00\">Estimatedataalary &lt;= 0.9</text>\n<text text-anchor=\"middle\" x=\"945.5\" y=\"-230.8\" font-family=\"Helvetica,sans-Serif\" font-size=\"14.00\">gini = 0.4</text>\n<text text-anchor=\"middle\" x=\"945.5\" y=\"-215.8\" font-family=\"Helvetica,sans-Serif\" font-size=\"14.00\">samples = 3</text>\n<text text-anchor=\"middle\" x=\"945.5\" y=\"-200.8\" font-family=\"Helvetica,sans-Serif\" font-size=\"14.00\">value = [1, 2]</text>\n</g>\n<!-- 27&#45;&gt;29 -->\n<g id=\"edge29\" class=\"edge\">\n<title>27&#45;&gt;29</title>\n<path fill=\"none\" stroke=\"black\" d=\"M910.38,-296.88C914.7,-288.42 919.39,-279.21 923.91,-270.35\"/>\n<polygon fill=\"black\" stroke=\"black\" points=\"927.1,-271.8 928.52,-261.3 920.86,-268.62 927.1,-271.8\"/>\n</g>\n<!-- 30 -->\n<g id=\"node31\" class=\"node\">\n<title>30</title>\n<path fill=\"none\" stroke=\"black\" d=\"M925,-149.5C925,-149.5 854,-149.5 854,-149.5 848,-149.5 842,-143.5 842,-137.5 842,-137.5 842,-108.5 842,-108.5 842,-102.5 848,-96.5 854,-96.5 854,-96.5 925,-96.5 925,-96.5 931,-96.5 937,-102.5 937,-108.5 937,-108.5 937,-137.5 937,-137.5 937,-143.5 931,-149.5 925,-149.5\"/>\n<text text-anchor=\"middle\" x=\"889.5\" y=\"-134.3\" font-family=\"Helvetica,sans-Serif\" font-size=\"14.00\">gini = 0.0</text>\n<text text-anchor=\"middle\" x=\"889.5\" y=\"-119.3\" font-family=\"Helvetica,sans-Serif\" font-size=\"14.00\">samples = 1</text>\n<text text-anchor=\"middle\" x=\"889.5\" y=\"-104.3\" font-family=\"Helvetica,sans-Serif\" font-size=\"14.00\">value = [1, 0]</text>\n</g>\n<!-- 29&#45;&gt;30 -->\n<g id=\"edge30\" class=\"edge\">\n<title>29&#45;&gt;30</title>\n<path fill=\"none\" stroke=\"black\" d=\"M927.32,-192.88C921.28,-181.89 914.54,-169.62 908.45,-158.52\"/>\n<polygon fill=\"black\" stroke=\"black\" points=\"911.39,-156.6 903.51,-149.52 905.26,-159.97 911.39,-156.6\"/>\n</g>\n<!-- 31 -->\n<g id=\"node32\" class=\"node\">\n<title>31</title>\n<path fill=\"none\" stroke=\"black\" d=\"M1038,-149.5C1038,-149.5 967,-149.5 967,-149.5 961,-149.5 955,-143.5 955,-137.5 955,-137.5 955,-108.5 955,-108.5 955,-102.5 961,-96.5 967,-96.5 967,-96.5 1038,-96.5 1038,-96.5 1044,-96.5 1050,-102.5 1050,-108.5 1050,-108.5 1050,-137.5 1050,-137.5 1050,-143.5 1044,-149.5 1038,-149.5\"/>\n<text text-anchor=\"middle\" x=\"1002.5\" y=\"-134.3\" font-family=\"Helvetica,sans-Serif\" font-size=\"14.00\">gini = 0.0</text>\n<text text-anchor=\"middle\" x=\"1002.5\" y=\"-119.3\" font-family=\"Helvetica,sans-Serif\" font-size=\"14.00\">samples = 2</text>\n<text text-anchor=\"middle\" x=\"1002.5\" y=\"-104.3\" font-family=\"Helvetica,sans-Serif\" font-size=\"14.00\">value = [0, 2]</text>\n</g>\n<!-- 29&#45;&gt;31 -->\n<g id=\"edge31\" class=\"edge\">\n<title>29&#45;&gt;31</title>\n<path fill=\"none\" stroke=\"black\" d=\"M964.01,-192.88C970.15,-181.89 977.01,-169.62 983.21,-158.52\"/>\n<polygon fill=\"black\" stroke=\"black\" points=\"986.42,-159.96 988.24,-149.52 980.31,-156.54 986.42,-159.96\"/>\n</g>\n<!-- 34 -->\n<g id=\"node35\" class=\"node\">\n<title>34</title>\n<path fill=\"none\" stroke=\"black\" d=\"M1281.5,-677C1281.5,-677 1195.5,-677 1195.5,-677 1189.5,-677 1183.5,-671 1183.5,-665 1183.5,-665 1183.5,-621 1183.5,-621 1183.5,-615 1189.5,-609 1195.5,-609 1195.5,-609 1281.5,-609 1281.5,-609 1287.5,-609 1293.5,-615 1293.5,-621 1293.5,-621 1293.5,-665 1293.5,-665 1293.5,-671 1287.5,-677 1281.5,-677\"/>\n<text text-anchor=\"middle\" x=\"1238.5\" y=\"-661.8\" font-family=\"Helvetica,sans-Serif\" font-size=\"14.00\">Age &lt;= &#45;0.2</text>\n<text text-anchor=\"middle\" x=\"1238.5\" y=\"-646.8\" font-family=\"Helvetica,sans-Serif\" font-size=\"14.00\">gini = 0.3</text>\n<text text-anchor=\"middle\" x=\"1238.5\" y=\"-631.8\" font-family=\"Helvetica,sans-Serif\" font-size=\"14.00\">samples = 70</text>\n<text text-anchor=\"middle\" x=\"1238.5\" y=\"-616.8\" font-family=\"Helvetica,sans-Serif\" font-size=\"14.00\">value = [93, 19]</text>\n</g>\n<!-- 33&#45;&gt;34 -->\n<g id=\"edge34\" class=\"edge\">\n<title>33&#45;&gt;34</title>\n<path fill=\"none\" stroke=\"black\" d=\"M1279.02,-712.88C1273.99,-704.33 1268.51,-695.01 1263.25,-686.07\"/>\n<polygon fill=\"black\" stroke=\"black\" points=\"1266.17,-684.14 1258.09,-677.3 1260.14,-687.69 1266.17,-684.14\"/>\n</g>\n<!-- 53 -->\n<g id=\"node54\" class=\"node\">\n<title>53</title>\n<path fill=\"none\" stroke=\"black\" d=\"M1395,-669.5C1395,-669.5 1324,-669.5 1324,-669.5 1318,-669.5 1312,-663.5 1312,-657.5 1312,-657.5 1312,-628.5 1312,-628.5 1312,-622.5 1318,-616.5 1324,-616.5 1324,-616.5 1395,-616.5 1395,-616.5 1401,-616.5 1407,-622.5 1407,-628.5 1407,-628.5 1407,-657.5 1407,-657.5 1407,-663.5 1401,-669.5 1395,-669.5\"/>\n<text text-anchor=\"middle\" x=\"1359.5\" y=\"-654.3\" font-family=\"Helvetica,sans-Serif\" font-size=\"14.00\">gini = 0.0</text>\n<text text-anchor=\"middle\" x=\"1359.5\" y=\"-639.3\" font-family=\"Helvetica,sans-Serif\" font-size=\"14.00\">samples = 4</text>\n<text text-anchor=\"middle\" x=\"1359.5\" y=\"-624.3\" font-family=\"Helvetica,sans-Serif\" font-size=\"14.00\">value = [0, 5]</text>\n</g>\n<!-- 33&#45;&gt;53 -->\n<g id=\"edge53\" class=\"edge\">\n<title>33&#45;&gt;53</title>\n<path fill=\"none\" stroke=\"black\" d=\"M1318.3,-712.88C1324.95,-701.78 1332.37,-689.37 1339.06,-678.18\"/>\n<polygon fill=\"black\" stroke=\"black\" points=\"1342.11,-679.9 1344.24,-669.52 1336.1,-676.31 1342.11,-679.9\"/>\n</g>\n<!-- 35 -->\n<g id=\"node36\" class=\"node\">\n<title>35</title>\n<path fill=\"none\" stroke=\"black\" d=\"M1199.5,-573C1199.5,-573 1121.5,-573 1121.5,-573 1115.5,-573 1109.5,-567 1109.5,-561 1109.5,-561 1109.5,-517 1109.5,-517 1109.5,-511 1115.5,-505 1121.5,-505 1121.5,-505 1199.5,-505 1199.5,-505 1205.5,-505 1211.5,-511 1211.5,-517 1211.5,-517 1211.5,-561 1211.5,-561 1211.5,-567 1205.5,-573 1199.5,-573\"/>\n<text text-anchor=\"middle\" x=\"1160.5\" y=\"-557.8\" font-family=\"Helvetica,sans-Serif\" font-size=\"14.00\">Age &lt;= &#45;0.5</text>\n<text text-anchor=\"middle\" x=\"1160.5\" y=\"-542.8\" font-family=\"Helvetica,sans-Serif\" font-size=\"14.00\">gini = 0.2</text>\n<text text-anchor=\"middle\" x=\"1160.5\" y=\"-527.8\" font-family=\"Helvetica,sans-Serif\" font-size=\"14.00\">samples = 44</text>\n<text text-anchor=\"middle\" x=\"1160.5\" y=\"-512.8\" font-family=\"Helvetica,sans-Serif\" font-size=\"14.00\">value = [62, 6]</text>\n</g>\n<!-- 34&#45;&gt;35 -->\n<g id=\"edge35\" class=\"edge\">\n<title>34&#45;&gt;35</title>\n<path fill=\"none\" stroke=\"black\" d=\"M1213.18,-608.88C1206.5,-600.15 1199.21,-590.62 1192.25,-581.51\"/>\n<polygon fill=\"black\" stroke=\"black\" points=\"1194.82,-579.12 1185.96,-573.3 1189.26,-583.37 1194.82,-579.12\"/>\n</g>\n<!-- 42 -->\n<g id=\"node43\" class=\"node\">\n<title>42</title>\n<path fill=\"none\" stroke=\"black\" d=\"M1388.5,-573C1388.5,-573 1244.5,-573 1244.5,-573 1238.5,-573 1232.5,-567 1232.5,-561 1232.5,-561 1232.5,-517 1232.5,-517 1232.5,-511 1238.5,-505 1244.5,-505 1244.5,-505 1388.5,-505 1388.5,-505 1394.5,-505 1400.5,-511 1400.5,-517 1400.5,-517 1400.5,-561 1400.5,-561 1400.5,-567 1394.5,-573 1388.5,-573\"/>\n<text text-anchor=\"middle\" x=\"1316.5\" y=\"-557.8\" font-family=\"Helvetica,sans-Serif\" font-size=\"14.00\">Estimatedataalary &lt;= 0.6</text>\n<text text-anchor=\"middle\" x=\"1316.5\" y=\"-542.8\" font-family=\"Helvetica,sans-Serif\" font-size=\"14.00\">gini = 0.4</text>\n<text text-anchor=\"middle\" x=\"1316.5\" y=\"-527.8\" font-family=\"Helvetica,sans-Serif\" font-size=\"14.00\">samples = 26</text>\n<text text-anchor=\"middle\" x=\"1316.5\" y=\"-512.8\" font-family=\"Helvetica,sans-Serif\" font-size=\"14.00\">value = [31, 13]</text>\n</g>\n<!-- 34&#45;&gt;42 -->\n<g id=\"edge42\" class=\"edge\">\n<title>34&#45;&gt;42</title>\n<path fill=\"none\" stroke=\"black\" d=\"M1263.82,-608.88C1270.5,-600.15 1277.79,-590.62 1284.75,-581.51\"/>\n<polygon fill=\"black\" stroke=\"black\" points=\"1287.74,-583.37 1291.04,-573.3 1282.18,-579.12 1287.74,-583.37\"/>\n</g>\n<!-- 36 -->\n<g id=\"node37\" class=\"node\">\n<title>36</title>\n<path fill=\"none\" stroke=\"black\" d=\"M1079.5,-469C1079.5,-469 1001.5,-469 1001.5,-469 995.5,-469 989.5,-463 989.5,-457 989.5,-457 989.5,-413 989.5,-413 989.5,-407 995.5,-401 1001.5,-401 1001.5,-401 1079.5,-401 1079.5,-401 1085.5,-401 1091.5,-407 1091.5,-413 1091.5,-413 1091.5,-457 1091.5,-457 1091.5,-463 1085.5,-469 1079.5,-469\"/>\n<text text-anchor=\"middle\" x=\"1040.5\" y=\"-453.8\" font-family=\"Helvetica,sans-Serif\" font-size=\"14.00\">Age &lt;= &#45;1.0</text>\n<text text-anchor=\"middle\" x=\"1040.5\" y=\"-438.8\" font-family=\"Helvetica,sans-Serif\" font-size=\"14.00\">gini = 0.2</text>\n<text text-anchor=\"middle\" x=\"1040.5\" y=\"-423.8\" font-family=\"Helvetica,sans-Serif\" font-size=\"14.00\">samples = 29</text>\n<text text-anchor=\"middle\" x=\"1040.5\" y=\"-408.8\" font-family=\"Helvetica,sans-Serif\" font-size=\"14.00\">value = [40, 6]</text>\n</g>\n<!-- 35&#45;&gt;36 -->\n<g id=\"edge36\" class=\"edge\">\n<title>35&#45;&gt;36</title>\n<path fill=\"none\" stroke=\"black\" d=\"M1121.54,-504.88C1110.64,-495.62 1098.68,-485.45 1087.38,-475.85\"/>\n<polygon fill=\"black\" stroke=\"black\" points=\"1089.56,-473.11 1079.68,-469.3 1085.03,-478.44 1089.56,-473.11\"/>\n</g>\n<!-- 41 -->\n<g id=\"node42\" class=\"node\">\n<title>41</title>\n<path fill=\"none\" stroke=\"black\" d=\"M1199.5,-461.5C1199.5,-461.5 1121.5,-461.5 1121.5,-461.5 1115.5,-461.5 1109.5,-455.5 1109.5,-449.5 1109.5,-449.5 1109.5,-420.5 1109.5,-420.5 1109.5,-414.5 1115.5,-408.5 1121.5,-408.5 1121.5,-408.5 1199.5,-408.5 1199.5,-408.5 1205.5,-408.5 1211.5,-414.5 1211.5,-420.5 1211.5,-420.5 1211.5,-449.5 1211.5,-449.5 1211.5,-455.5 1205.5,-461.5 1199.5,-461.5\"/>\n<text text-anchor=\"middle\" x=\"1160.5\" y=\"-446.3\" font-family=\"Helvetica,sans-Serif\" font-size=\"14.00\">gini = 0.0</text>\n<text text-anchor=\"middle\" x=\"1160.5\" y=\"-431.3\" font-family=\"Helvetica,sans-Serif\" font-size=\"14.00\">samples = 15</text>\n<text text-anchor=\"middle\" x=\"1160.5\" y=\"-416.3\" font-family=\"Helvetica,sans-Serif\" font-size=\"14.00\">value = [22, 0]</text>\n</g>\n<!-- 35&#45;&gt;41 -->\n<g id=\"edge41\" class=\"edge\">\n<title>35&#45;&gt;41</title>\n<path fill=\"none\" stroke=\"black\" d=\"M1160.5,-504.88C1160.5,-494.33 1160.5,-482.6 1160.5,-471.85\"/>\n<polygon fill=\"black\" stroke=\"black\" points=\"1164,-471.52 1160.5,-461.52 1157,-471.52 1164,-471.52\"/>\n</g>\n<!-- 37 -->\n<g id=\"node38\" class=\"node\">\n<title>37</title>\n<path fill=\"none\" stroke=\"black\" d=\"M1049.5,-357.5C1049.5,-357.5 971.5,-357.5 971.5,-357.5 965.5,-357.5 959.5,-351.5 959.5,-345.5 959.5,-345.5 959.5,-316.5 959.5,-316.5 959.5,-310.5 965.5,-304.5 971.5,-304.5 971.5,-304.5 1049.5,-304.5 1049.5,-304.5 1055.5,-304.5 1061.5,-310.5 1061.5,-316.5 1061.5,-316.5 1061.5,-345.5 1061.5,-345.5 1061.5,-351.5 1055.5,-357.5 1049.5,-357.5\"/>\n<text text-anchor=\"middle\" x=\"1010.5\" y=\"-342.3\" font-family=\"Helvetica,sans-Serif\" font-size=\"14.00\">gini = 0.0</text>\n<text text-anchor=\"middle\" x=\"1010.5\" y=\"-327.3\" font-family=\"Helvetica,sans-Serif\" font-size=\"14.00\">samples = 13</text>\n<text text-anchor=\"middle\" x=\"1010.5\" y=\"-312.3\" font-family=\"Helvetica,sans-Serif\" font-size=\"14.00\">value = [19, 0]</text>\n</g>\n<!-- 36&#45;&gt;37 -->\n<g id=\"edge37\" class=\"edge\">\n<title>36&#45;&gt;37</title>\n<path fill=\"none\" stroke=\"black\" d=\"M1030.76,-400.88C1027.59,-390.11 1024.06,-378.11 1020.85,-367.18\"/>\n<polygon fill=\"black\" stroke=\"black\" points=\"1024.19,-366.13 1018.01,-357.52 1017.47,-368.1 1024.19,-366.13\"/>\n</g>\n<!-- 38 -->\n<g id=\"node39\" class=\"node\">\n<title>38</title>\n<path fill=\"none\" stroke=\"black\" d=\"M1235.5,-365C1235.5,-365 1091.5,-365 1091.5,-365 1085.5,-365 1079.5,-359 1079.5,-353 1079.5,-353 1079.5,-309 1079.5,-309 1079.5,-303 1085.5,-297 1091.5,-297 1091.5,-297 1235.5,-297 1235.5,-297 1241.5,-297 1247.5,-303 1247.5,-309 1247.5,-309 1247.5,-353 1247.5,-353 1247.5,-359 1241.5,-365 1235.5,-365\"/>\n<text text-anchor=\"middle\" x=\"1163.5\" y=\"-349.8\" font-family=\"Helvetica,sans-Serif\" font-size=\"14.00\">Estimatedataalary &lt;= 0.7</text>\n<text text-anchor=\"middle\" x=\"1163.5\" y=\"-334.8\" font-family=\"Helvetica,sans-Serif\" font-size=\"14.00\">gini = 0.3</text>\n<text text-anchor=\"middle\" x=\"1163.5\" y=\"-319.8\" font-family=\"Helvetica,sans-Serif\" font-size=\"14.00\">samples = 16</text>\n<text text-anchor=\"middle\" x=\"1163.5\" y=\"-304.8\" font-family=\"Helvetica,sans-Serif\" font-size=\"14.00\">value = [21, 6]</text>\n</g>\n<!-- 36&#45;&gt;38 -->\n<g id=\"edge38\" class=\"edge\">\n<title>36&#45;&gt;38</title>\n<path fill=\"none\" stroke=\"black\" d=\"M1080.43,-400.88C1091.61,-391.62 1103.86,-381.45 1115.45,-371.85\"/>\n<polygon fill=\"black\" stroke=\"black\" points=\"1117.88,-374.38 1123.34,-365.3 1113.41,-368.99 1117.88,-374.38\"/>\n</g>\n<!-- 39 -->\n<g id=\"node40\" class=\"node\">\n<title>39</title>\n<path fill=\"none\" stroke=\"black\" d=\"M1138.5,-253.5C1138.5,-253.5 1060.5,-253.5 1060.5,-253.5 1054.5,-253.5 1048.5,-247.5 1048.5,-241.5 1048.5,-241.5 1048.5,-212.5 1048.5,-212.5 1048.5,-206.5 1054.5,-200.5 1060.5,-200.5 1060.5,-200.5 1138.5,-200.5 1138.5,-200.5 1144.5,-200.5 1150.5,-206.5 1150.5,-212.5 1150.5,-212.5 1150.5,-241.5 1150.5,-241.5 1150.5,-247.5 1144.5,-253.5 1138.5,-253.5\"/>\n<text text-anchor=\"middle\" x=\"1099.5\" y=\"-238.3\" font-family=\"Helvetica,sans-Serif\" font-size=\"14.00\">gini = 0.0</text>\n<text text-anchor=\"middle\" x=\"1099.5\" y=\"-223.3\" font-family=\"Helvetica,sans-Serif\" font-size=\"14.00\">samples = 13</text>\n<text text-anchor=\"middle\" x=\"1099.5\" y=\"-208.3\" font-family=\"Helvetica,sans-Serif\" font-size=\"14.00\">value = [21, 0]</text>\n</g>\n<!-- 38&#45;&gt;39 -->\n<g id=\"edge39\" class=\"edge\">\n<title>38&#45;&gt;39</title>\n<path fill=\"none\" stroke=\"black\" d=\"M1142.72,-296.88C1135.75,-285.78 1127.97,-273.37 1120.95,-262.18\"/>\n<polygon fill=\"black\" stroke=\"black\" points=\"1123.79,-260.13 1115.51,-253.52 1117.86,-263.85 1123.79,-260.13\"/>\n</g>\n<!-- 40 -->\n<g id=\"node41\" class=\"node\">\n<title>40</title>\n<path fill=\"none\" stroke=\"black\" d=\"M1252,-253.5C1252,-253.5 1181,-253.5 1181,-253.5 1175,-253.5 1169,-247.5 1169,-241.5 1169,-241.5 1169,-212.5 1169,-212.5 1169,-206.5 1175,-200.5 1181,-200.5 1181,-200.5 1252,-200.5 1252,-200.5 1258,-200.5 1264,-206.5 1264,-212.5 1264,-212.5 1264,-241.5 1264,-241.5 1264,-247.5 1258,-253.5 1252,-253.5\"/>\n<text text-anchor=\"middle\" x=\"1216.5\" y=\"-238.3\" font-family=\"Helvetica,sans-Serif\" font-size=\"14.00\">gini = 0.0</text>\n<text text-anchor=\"middle\" x=\"1216.5\" y=\"-223.3\" font-family=\"Helvetica,sans-Serif\" font-size=\"14.00\">samples = 3</text>\n<text text-anchor=\"middle\" x=\"1216.5\" y=\"-208.3\" font-family=\"Helvetica,sans-Serif\" font-size=\"14.00\">value = [0, 6]</text>\n</g>\n<!-- 38&#45;&gt;40 -->\n<g id=\"edge40\" class=\"edge\">\n<title>38&#45;&gt;40</title>\n<path fill=\"none\" stroke=\"black\" d=\"M1180.71,-296.88C1186.42,-285.89 1192.8,-273.62 1198.56,-262.52\"/>\n<polygon fill=\"black\" stroke=\"black\" points=\"1201.73,-264.01 1203.24,-253.52 1195.52,-260.78 1201.73,-264.01\"/>\n</g>\n<!-- 43 -->\n<g id=\"node44\" class=\"node\">\n<title>43</title>\n<path fill=\"none\" stroke=\"black\" d=\"M1391,-469C1391,-469 1242,-469 1242,-469 1236,-469 1230,-463 1230,-457 1230,-457 1230,-413 1230,-413 1230,-407 1236,-401 1242,-401 1242,-401 1391,-401 1391,-401 1397,-401 1403,-407 1403,-413 1403,-413 1403,-457 1403,-457 1403,-463 1397,-469 1391,-469\"/>\n<text text-anchor=\"middle\" x=\"1316.5\" y=\"-453.8\" font-family=\"Helvetica,sans-Serif\" font-size=\"14.00\">Estimatedataalary &lt;= &#45;0.1</text>\n<text text-anchor=\"middle\" x=\"1316.5\" y=\"-438.8\" font-family=\"Helvetica,sans-Serif\" font-size=\"14.00\">gini = 0.1</text>\n<text text-anchor=\"middle\" x=\"1316.5\" y=\"-423.8\" font-family=\"Helvetica,sans-Serif\" font-size=\"14.00\">samples = 20</text>\n<text text-anchor=\"middle\" x=\"1316.5\" y=\"-408.8\" font-family=\"Helvetica,sans-Serif\" font-size=\"14.00\">value = [31, 2]</text>\n</g>\n<!-- 42&#45;&gt;43 -->\n<g id=\"edge43\" class=\"edge\">\n<title>42&#45;&gt;43</title>\n<path fill=\"none\" stroke=\"black\" d=\"M1316.5,-504.88C1316.5,-496.78 1316.5,-487.98 1316.5,-479.47\"/>\n<polygon fill=\"black\" stroke=\"black\" points=\"1320,-479.3 1316.5,-469.3 1313,-479.3 1320,-479.3\"/>\n</g>\n<!-- 52 -->\n<g id=\"node53\" class=\"node\">\n<title>52</title>\n<path fill=\"none\" stroke=\"black\" d=\"M1511.5,-461.5C1511.5,-461.5 1433.5,-461.5 1433.5,-461.5 1427.5,-461.5 1421.5,-455.5 1421.5,-449.5 1421.5,-449.5 1421.5,-420.5 1421.5,-420.5 1421.5,-414.5 1427.5,-408.5 1433.5,-408.5 1433.5,-408.5 1511.5,-408.5 1511.5,-408.5 1517.5,-408.5 1523.5,-414.5 1523.5,-420.5 1523.5,-420.5 1523.5,-449.5 1523.5,-449.5 1523.5,-455.5 1517.5,-461.5 1511.5,-461.5\"/>\n<text text-anchor=\"middle\" x=\"1472.5\" y=\"-446.3\" font-family=\"Helvetica,sans-Serif\" font-size=\"14.00\">gini = 0.0</text>\n<text text-anchor=\"middle\" x=\"1472.5\" y=\"-431.3\" font-family=\"Helvetica,sans-Serif\" font-size=\"14.00\">samples = 6</text>\n<text text-anchor=\"middle\" x=\"1472.5\" y=\"-416.3\" font-family=\"Helvetica,sans-Serif\" font-size=\"14.00\">value = [0, 11]</text>\n</g>\n<!-- 42&#45;&gt;52 -->\n<g id=\"edge52\" class=\"edge\">\n<title>42&#45;&gt;52</title>\n<path fill=\"none\" stroke=\"black\" d=\"M1367.15,-504.88C1385.65,-492.79 1406.5,-479.15 1424.75,-467.22\"/>\n<polygon fill=\"black\" stroke=\"black\" points=\"1427.02,-469.92 1433.47,-461.52 1423.18,-464.06 1427.02,-469.92\"/>\n</g>\n<!-- 44 -->\n<g id=\"node45\" class=\"node\">\n<title>44</title>\n<path fill=\"none\" stroke=\"black\" d=\"M1355.5,-357.5C1355.5,-357.5 1277.5,-357.5 1277.5,-357.5 1271.5,-357.5 1265.5,-351.5 1265.5,-345.5 1265.5,-345.5 1265.5,-316.5 1265.5,-316.5 1265.5,-310.5 1271.5,-304.5 1277.5,-304.5 1277.5,-304.5 1355.5,-304.5 1355.5,-304.5 1361.5,-304.5 1367.5,-310.5 1367.5,-316.5 1367.5,-316.5 1367.5,-345.5 1367.5,-345.5 1367.5,-351.5 1361.5,-357.5 1355.5,-357.5\"/>\n<text text-anchor=\"middle\" x=\"1316.5\" y=\"-342.3\" font-family=\"Helvetica,sans-Serif\" font-size=\"14.00\">gini = 0.0</text>\n<text text-anchor=\"middle\" x=\"1316.5\" y=\"-327.3\" font-family=\"Helvetica,sans-Serif\" font-size=\"14.00\">samples = 13</text>\n<text text-anchor=\"middle\" x=\"1316.5\" y=\"-312.3\" font-family=\"Helvetica,sans-Serif\" font-size=\"14.00\">value = [21, 0]</text>\n</g>\n<!-- 43&#45;&gt;44 -->\n<g id=\"edge44\" class=\"edge\">\n<title>43&#45;&gt;44</title>\n<path fill=\"none\" stroke=\"black\" d=\"M1316.5,-400.88C1316.5,-390.33 1316.5,-378.6 1316.5,-367.85\"/>\n<polygon fill=\"black\" stroke=\"black\" points=\"1320,-367.52 1316.5,-357.52 1313,-367.52 1320,-367.52\"/>\n</g>\n<!-- 45 -->\n<g id=\"node46\" class=\"node\">\n<title>45</title>\n<path fill=\"none\" stroke=\"black\" d=\"M1547,-365C1547,-365 1398,-365 1398,-365 1392,-365 1386,-359 1386,-353 1386,-353 1386,-309 1386,-309 1386,-303 1392,-297 1398,-297 1398,-297 1547,-297 1547,-297 1553,-297 1559,-303 1559,-309 1559,-309 1559,-353 1559,-353 1559,-359 1553,-365 1547,-365\"/>\n<text text-anchor=\"middle\" x=\"1472.5\" y=\"-349.8\" font-family=\"Helvetica,sans-Serif\" font-size=\"14.00\">Estimatedataalary &lt;= &#45;0.0</text>\n<text text-anchor=\"middle\" x=\"1472.5\" y=\"-334.8\" font-family=\"Helvetica,sans-Serif\" font-size=\"14.00\">gini = 0.3</text>\n<text text-anchor=\"middle\" x=\"1472.5\" y=\"-319.8\" font-family=\"Helvetica,sans-Serif\" font-size=\"14.00\">samples = 7</text>\n<text text-anchor=\"middle\" x=\"1472.5\" y=\"-304.8\" font-family=\"Helvetica,sans-Serif\" font-size=\"14.00\">value = [10, 2]</text>\n</g>\n<!-- 43&#45;&gt;45 -->\n<g id=\"edge45\" class=\"edge\">\n<title>43&#45;&gt;45</title>\n<path fill=\"none\" stroke=\"black\" d=\"M1367.15,-400.88C1381.8,-391.3 1397.92,-380.76 1413.06,-370.86\"/>\n<polygon fill=\"black\" stroke=\"black\" points=\"1415.38,-373.53 1421.84,-365.12 1411.55,-367.67 1415.38,-373.53\"/>\n</g>\n<!-- 46 -->\n<g id=\"node47\" class=\"node\">\n<title>46</title>\n<path fill=\"none\" stroke=\"black\" d=\"M1365,-253.5C1365,-253.5 1294,-253.5 1294,-253.5 1288,-253.5 1282,-247.5 1282,-241.5 1282,-241.5 1282,-212.5 1282,-212.5 1282,-206.5 1288,-200.5 1294,-200.5 1294,-200.5 1365,-200.5 1365,-200.5 1371,-200.5 1377,-206.5 1377,-212.5 1377,-212.5 1377,-241.5 1377,-241.5 1377,-247.5 1371,-253.5 1365,-253.5\"/>\n<text text-anchor=\"middle\" x=\"1329.5\" y=\"-238.3\" font-family=\"Helvetica,sans-Serif\" font-size=\"14.00\">gini = 0.0</text>\n<text text-anchor=\"middle\" x=\"1329.5\" y=\"-223.3\" font-family=\"Helvetica,sans-Serif\" font-size=\"14.00\">samples = 1</text>\n<text text-anchor=\"middle\" x=\"1329.5\" y=\"-208.3\" font-family=\"Helvetica,sans-Serif\" font-size=\"14.00\">value = [0, 1]</text>\n</g>\n<!-- 45&#45;&gt;46 -->\n<g id=\"edge46\" class=\"edge\">\n<title>45&#45;&gt;46</title>\n<path fill=\"none\" stroke=\"black\" d=\"M1426.07,-296.88C1409.27,-284.9 1390.34,-271.4 1373.73,-259.55\"/>\n<polygon fill=\"black\" stroke=\"black\" points=\"1375.45,-256.48 1365.28,-253.52 1371.39,-262.18 1375.45,-256.48\"/>\n</g>\n<!-- 47 -->\n<g id=\"node48\" class=\"node\">\n<title>47</title>\n<path fill=\"none\" stroke=\"black\" d=\"M1551.5,-261C1551.5,-261 1407.5,-261 1407.5,-261 1401.5,-261 1395.5,-255 1395.5,-249 1395.5,-249 1395.5,-205 1395.5,-205 1395.5,-199 1401.5,-193 1407.5,-193 1407.5,-193 1551.5,-193 1551.5,-193 1557.5,-193 1563.5,-199 1563.5,-205 1563.5,-205 1563.5,-249 1563.5,-249 1563.5,-255 1557.5,-261 1551.5,-261\"/>\n<text text-anchor=\"middle\" x=\"1479.5\" y=\"-245.8\" font-family=\"Helvetica,sans-Serif\" font-size=\"14.00\">Estimatedataalary &lt;= 0.0</text>\n<text text-anchor=\"middle\" x=\"1479.5\" y=\"-230.8\" font-family=\"Helvetica,sans-Serif\" font-size=\"14.00\">gini = 0.2</text>\n<text text-anchor=\"middle\" x=\"1479.5\" y=\"-215.8\" font-family=\"Helvetica,sans-Serif\" font-size=\"14.00\">samples = 6</text>\n<text text-anchor=\"middle\" x=\"1479.5\" y=\"-200.8\" font-family=\"Helvetica,sans-Serif\" font-size=\"14.00\">value = [10, 1]</text>\n</g>\n<!-- 45&#45;&gt;47 -->\n<g id=\"edge47\" class=\"edge\">\n<title>45&#45;&gt;47</title>\n<path fill=\"none\" stroke=\"black\" d=\"M1474.77,-296.88C1475.33,-288.78 1475.93,-279.98 1476.52,-271.47\"/>\n<polygon fill=\"black\" stroke=\"black\" points=\"1480.02,-271.52 1477.21,-261.3 1473.04,-271.04 1480.02,-271.52\"/>\n</g>\n<!-- 48 -->\n<g id=\"node49\" class=\"node\">\n<title>48</title>\n<path fill=\"none\" stroke=\"black\" d=\"M1458,-157C1458,-157 1387,-157 1387,-157 1381,-157 1375,-151 1375,-145 1375,-145 1375,-101 1375,-101 1375,-95 1381,-89 1387,-89 1387,-89 1458,-89 1458,-89 1464,-89 1470,-95 1470,-101 1470,-101 1470,-145 1470,-145 1470,-151 1464,-157 1458,-157\"/>\n<text text-anchor=\"middle\" x=\"1422.5\" y=\"-141.8\" font-family=\"Helvetica,sans-Serif\" font-size=\"14.00\">Age &lt;= 0.1</text>\n<text text-anchor=\"middle\" x=\"1422.5\" y=\"-126.8\" font-family=\"Helvetica,sans-Serif\" font-size=\"14.00\">gini = 0.4</text>\n<text text-anchor=\"middle\" x=\"1422.5\" y=\"-111.8\" font-family=\"Helvetica,sans-Serif\" font-size=\"14.00\">samples = 2</text>\n<text text-anchor=\"middle\" x=\"1422.5\" y=\"-96.8\" font-family=\"Helvetica,sans-Serif\" font-size=\"14.00\">value = [3, 1]</text>\n</g>\n<!-- 47&#45;&gt;48 -->\n<g id=\"edge48\" class=\"edge\">\n<title>47&#45;&gt;48</title>\n<path fill=\"none\" stroke=\"black\" d=\"M1460.99,-192.88C1456.22,-184.33 1451.01,-175.01 1446.01,-166.07\"/>\n<polygon fill=\"black\" stroke=\"black\" points=\"1449.04,-164.32 1441.11,-157.3 1442.93,-167.74 1449.04,-164.32\"/>\n</g>\n<!-- 51 -->\n<g id=\"node52\" class=\"node\">\n<title>51</title>\n<path fill=\"none\" stroke=\"black\" d=\"M1571,-149.5C1571,-149.5 1500,-149.5 1500,-149.5 1494,-149.5 1488,-143.5 1488,-137.5 1488,-137.5 1488,-108.5 1488,-108.5 1488,-102.5 1494,-96.5 1500,-96.5 1500,-96.5 1571,-96.5 1571,-96.5 1577,-96.5 1583,-102.5 1583,-108.5 1583,-108.5 1583,-137.5 1583,-137.5 1583,-143.5 1577,-149.5 1571,-149.5\"/>\n<text text-anchor=\"middle\" x=\"1535.5\" y=\"-134.3\" font-family=\"Helvetica,sans-Serif\" font-size=\"14.00\">gini = 0.0</text>\n<text text-anchor=\"middle\" x=\"1535.5\" y=\"-119.3\" font-family=\"Helvetica,sans-Serif\" font-size=\"14.00\">samples = 4</text>\n<text text-anchor=\"middle\" x=\"1535.5\" y=\"-104.3\" font-family=\"Helvetica,sans-Serif\" font-size=\"14.00\">value = [7, 0]</text>\n</g>\n<!-- 47&#45;&gt;51 -->\n<g id=\"edge51\" class=\"edge\">\n<title>47&#45;&gt;51</title>\n<path fill=\"none\" stroke=\"black\" d=\"M1497.68,-192.88C1503.72,-181.89 1510.46,-169.62 1516.55,-158.52\"/>\n<polygon fill=\"black\" stroke=\"black\" points=\"1519.74,-159.97 1521.49,-149.52 1513.61,-156.6 1519.74,-159.97\"/>\n</g>\n<!-- 49 -->\n<g id=\"node50\" class=\"node\">\n<title>49</title>\n<path fill=\"none\" stroke=\"black\" d=\"M1401,-53C1401,-53 1330,-53 1330,-53 1324,-53 1318,-47 1318,-41 1318,-41 1318,-12 1318,-12 1318,-6 1324,0 1330,0 1330,0 1401,0 1401,0 1407,0 1413,-6 1413,-12 1413,-12 1413,-41 1413,-41 1413,-47 1407,-53 1401,-53\"/>\n<text text-anchor=\"middle\" x=\"1365.5\" y=\"-37.8\" font-family=\"Helvetica,sans-Serif\" font-size=\"14.00\">gini = 0.0</text>\n<text text-anchor=\"middle\" x=\"1365.5\" y=\"-22.8\" font-family=\"Helvetica,sans-Serif\" font-size=\"14.00\">samples = 1</text>\n<text text-anchor=\"middle\" x=\"1365.5\" y=\"-7.8\" font-family=\"Helvetica,sans-Serif\" font-size=\"14.00\">value = [3, 0]</text>\n</g>\n<!-- 48&#45;&gt;49 -->\n<g id=\"edge49\" class=\"edge\">\n<title>48&#45;&gt;49</title>\n<path fill=\"none\" stroke=\"black\" d=\"M1402.56,-88.95C1397.27,-80.17 1391.53,-70.66 1386.2,-61.82\"/>\n<polygon fill=\"black\" stroke=\"black\" points=\"1389.19,-59.99 1381.02,-53.24 1383.19,-63.61 1389.19,-59.99\"/>\n</g>\n<!-- 50 -->\n<g id=\"node51\" class=\"node\">\n<title>50</title>\n<path fill=\"none\" stroke=\"black\" d=\"M1514,-53C1514,-53 1443,-53 1443,-53 1437,-53 1431,-47 1431,-41 1431,-41 1431,-12 1431,-12 1431,-6 1437,0 1443,0 1443,0 1514,0 1514,0 1520,0 1526,-6 1526,-12 1526,-12 1526,-41 1526,-41 1526,-47 1520,-53 1514,-53\"/>\n<text text-anchor=\"middle\" x=\"1478.5\" y=\"-37.8\" font-family=\"Helvetica,sans-Serif\" font-size=\"14.00\">gini = 0.0</text>\n<text text-anchor=\"middle\" x=\"1478.5\" y=\"-22.8\" font-family=\"Helvetica,sans-Serif\" font-size=\"14.00\">samples = 1</text>\n<text text-anchor=\"middle\" x=\"1478.5\" y=\"-7.8\" font-family=\"Helvetica,sans-Serif\" font-size=\"14.00\">value = [0, 1]</text>\n</g>\n<!-- 48&#45;&gt;50 -->\n<g id=\"edge50\" class=\"edge\">\n<title>48&#45;&gt;50</title>\n<path fill=\"none\" stroke=\"black\" d=\"M1442.09,-88.95C1447.24,-80.26 1452.8,-70.86 1458,-62.09\"/>\n<polygon fill=\"black\" stroke=\"black\" points=\"1461.16,-63.62 1463.25,-53.24 1455.14,-60.06 1461.16,-63.62\"/>\n</g>\n<!-- 55 -->\n<g id=\"node56\" class=\"node\">\n<title>55</title>\n<path fill=\"none\" stroke=\"black\" d=\"M1943.5,-781C1943.5,-781 1865.5,-781 1865.5,-781 1859.5,-781 1853.5,-775 1853.5,-769 1853.5,-769 1853.5,-725 1853.5,-725 1853.5,-719 1859.5,-713 1865.5,-713 1865.5,-713 1943.5,-713 1943.5,-713 1949.5,-713 1955.5,-719 1955.5,-725 1955.5,-725 1955.5,-769 1955.5,-769 1955.5,-775 1949.5,-781 1943.5,-781\"/>\n<text text-anchor=\"middle\" x=\"1904.5\" y=\"-765.8\" font-family=\"Helvetica,sans-Serif\" font-size=\"14.00\">Age &lt;= 1.1</text>\n<text text-anchor=\"middle\" x=\"1904.5\" y=\"-750.8\" font-family=\"Helvetica,sans-Serif\" font-size=\"14.00\">gini = 0.1</text>\n<text text-anchor=\"middle\" x=\"1904.5\" y=\"-735.8\" font-family=\"Helvetica,sans-Serif\" font-size=\"14.00\">samples = 37</text>\n<text text-anchor=\"middle\" x=\"1904.5\" y=\"-720.8\" font-family=\"Helvetica,sans-Serif\" font-size=\"14.00\">value = [3, 61]</text>\n</g>\n<!-- 54&#45;&gt;55 -->\n<g id=\"edge55\" class=\"edge\">\n<title>54&#45;&gt;55</title>\n<path fill=\"none\" stroke=\"black\" d=\"M1904.5,-816.88C1904.5,-808.78 1904.5,-799.98 1904.5,-791.47\"/>\n<polygon fill=\"black\" stroke=\"black\" points=\"1908,-791.3 1904.5,-781.3 1901,-791.3 1908,-791.3\"/>\n</g>\n<!-- 72 -->\n<g id=\"node73\" class=\"node\">\n<title>72</title>\n<path fill=\"none\" stroke=\"black\" d=\"M2277,-781C2277,-781 2206,-781 2206,-781 2200,-781 2194,-775 2194,-769 2194,-769 2194,-725 2194,-725 2194,-719 2200,-713 2206,-713 2206,-713 2277,-713 2277,-713 2283,-713 2289,-719 2289,-725 2289,-725 2289,-769 2289,-769 2289,-775 2283,-781 2277,-781\"/>\n<text text-anchor=\"middle\" x=\"2241.5\" y=\"-765.8\" font-family=\"Helvetica,sans-Serif\" font-size=\"14.00\">Age &lt;= 2.1</text>\n<text text-anchor=\"middle\" x=\"2241.5\" y=\"-750.8\" font-family=\"Helvetica,sans-Serif\" font-size=\"14.00\">gini = 0.3</text>\n<text text-anchor=\"middle\" x=\"2241.5\" y=\"-735.8\" font-family=\"Helvetica,sans-Serif\" font-size=\"14.00\">samples = 8</text>\n<text text-anchor=\"middle\" x=\"2241.5\" y=\"-720.8\" font-family=\"Helvetica,sans-Serif\" font-size=\"14.00\">value = [2, 8]</text>\n</g>\n<!-- 54&#45;&gt;72 -->\n<g id=\"edge72\" class=\"edge\">\n<title>54&#45;&gt;72</title>\n<path fill=\"none\" stroke=\"black\" d=\"M1955.68,-834.51C2017.12,-815.91 2119.86,-784.82 2183.98,-765.41\"/>\n<polygon fill=\"black\" stroke=\"black\" points=\"2185.37,-768.65 2193.93,-762.4 2183.34,-761.95 2185.37,-768.65\"/>\n</g>\n<!-- 56 -->\n<g id=\"node57\" class=\"node\">\n<title>56</title>\n<path fill=\"none\" stroke=\"black\" d=\"M1883.5,-677C1883.5,-677 1805.5,-677 1805.5,-677 1799.5,-677 1793.5,-671 1793.5,-665 1793.5,-665 1793.5,-621 1793.5,-621 1793.5,-615 1799.5,-609 1805.5,-609 1805.5,-609 1883.5,-609 1883.5,-609 1889.5,-609 1895.5,-615 1895.5,-621 1895.5,-621 1895.5,-665 1895.5,-665 1895.5,-671 1889.5,-677 1883.5,-677\"/>\n<text text-anchor=\"middle\" x=\"1844.5\" y=\"-661.8\" font-family=\"Helvetica,sans-Serif\" font-size=\"14.00\">Age &lt;= 1.0</text>\n<text text-anchor=\"middle\" x=\"1844.5\" y=\"-646.8\" font-family=\"Helvetica,sans-Serif\" font-size=\"14.00\">gini = 0.2</text>\n<text text-anchor=\"middle\" x=\"1844.5\" y=\"-631.8\" font-family=\"Helvetica,sans-Serif\" font-size=\"14.00\">samples = 18</text>\n<text text-anchor=\"middle\" x=\"1844.5\" y=\"-616.8\" font-family=\"Helvetica,sans-Serif\" font-size=\"14.00\">value = [3, 24]</text>\n</g>\n<!-- 55&#45;&gt;56 -->\n<g id=\"edge56\" class=\"edge\">\n<title>55&#45;&gt;56</title>\n<path fill=\"none\" stroke=\"black\" d=\"M1885.02,-712.88C1879.99,-704.33 1874.51,-695.01 1869.25,-686.07\"/>\n<polygon fill=\"black\" stroke=\"black\" points=\"1872.17,-684.14 1864.09,-677.3 1866.14,-687.69 1872.17,-684.14\"/>\n</g>\n<!-- 71 -->\n<g id=\"node72\" class=\"node\">\n<title>71</title>\n<path fill=\"none\" stroke=\"black\" d=\"M2003.5,-669.5C2003.5,-669.5 1925.5,-669.5 1925.5,-669.5 1919.5,-669.5 1913.5,-663.5 1913.5,-657.5 1913.5,-657.5 1913.5,-628.5 1913.5,-628.5 1913.5,-622.5 1919.5,-616.5 1925.5,-616.5 1925.5,-616.5 2003.5,-616.5 2003.5,-616.5 2009.5,-616.5 2015.5,-622.5 2015.5,-628.5 2015.5,-628.5 2015.5,-657.5 2015.5,-657.5 2015.5,-663.5 2009.5,-669.5 2003.5,-669.5\"/>\n<text text-anchor=\"middle\" x=\"1964.5\" y=\"-654.3\" font-family=\"Helvetica,sans-Serif\" font-size=\"14.00\">gini = 0.0</text>\n<text text-anchor=\"middle\" x=\"1964.5\" y=\"-639.3\" font-family=\"Helvetica,sans-Serif\" font-size=\"14.00\">samples = 19</text>\n<text text-anchor=\"middle\" x=\"1964.5\" y=\"-624.3\" font-family=\"Helvetica,sans-Serif\" font-size=\"14.00\">value = [0, 37]</text>\n</g>\n<!-- 55&#45;&gt;71 -->\n<g id=\"edge71\" class=\"edge\">\n<title>55&#45;&gt;71</title>\n<path fill=\"none\" stroke=\"black\" d=\"M1923.98,-712.88C1930.51,-701.78 1937.81,-689.37 1944.39,-678.18\"/>\n<polygon fill=\"black\" stroke=\"black\" points=\"1947.43,-679.91 1949.49,-669.52 1941.4,-676.36 1947.43,-679.91\"/>\n</g>\n<!-- 57 -->\n<g id=\"node58\" class=\"node\">\n<title>57</title>\n<path fill=\"none\" stroke=\"black\" d=\"M1822.5,-573C1822.5,-573 1744.5,-573 1744.5,-573 1738.5,-573 1732.5,-567 1732.5,-561 1732.5,-561 1732.5,-517 1732.5,-517 1732.5,-511 1738.5,-505 1744.5,-505 1744.5,-505 1822.5,-505 1822.5,-505 1828.5,-505 1834.5,-511 1834.5,-517 1834.5,-517 1834.5,-561 1834.5,-561 1834.5,-567 1828.5,-573 1822.5,-573\"/>\n<text text-anchor=\"middle\" x=\"1783.5\" y=\"-557.8\" font-family=\"Helvetica,sans-Serif\" font-size=\"14.00\">Age &lt;= 0.9</text>\n<text text-anchor=\"middle\" x=\"1783.5\" y=\"-542.8\" font-family=\"Helvetica,sans-Serif\" font-size=\"14.00\">gini = 0.1</text>\n<text text-anchor=\"middle\" x=\"1783.5\" y=\"-527.8\" font-family=\"Helvetica,sans-Serif\" font-size=\"14.00\">samples = 13</text>\n<text text-anchor=\"middle\" x=\"1783.5\" y=\"-512.8\" font-family=\"Helvetica,sans-Serif\" font-size=\"14.00\">value = [1, 19]</text>\n</g>\n<!-- 56&#45;&gt;57 -->\n<g id=\"edge57\" class=\"edge\">\n<title>56&#45;&gt;57</title>\n<path fill=\"none\" stroke=\"black\" d=\"M1824.7,-608.88C1819.58,-600.33 1814.01,-591.01 1808.66,-582.07\"/>\n<polygon fill=\"black\" stroke=\"black\" points=\"1811.55,-580.09 1803.41,-573.3 1805.54,-583.68 1811.55,-580.09\"/>\n</g>\n<!-- 64 -->\n<g id=\"node65\" class=\"node\">\n<title>64</title>\n<path fill=\"none\" stroke=\"black\" d=\"M1946,-573C1946,-573 1865,-573 1865,-573 1859,-573 1853,-567 1853,-561 1853,-561 1853,-517 1853,-517 1853,-511 1859,-505 1865,-505 1865,-505 1946,-505 1946,-505 1952,-505 1958,-511 1958,-517 1958,-517 1958,-561 1958,-561 1958,-567 1952,-573 1946,-573\"/>\n<text text-anchor=\"middle\" x=\"1905.5\" y=\"-557.8\" font-family=\"Helvetica,sans-Serif\" font-size=\"14.00\">Gender &lt;= 0.0</text>\n<text text-anchor=\"middle\" x=\"1905.5\" y=\"-542.8\" font-family=\"Helvetica,sans-Serif\" font-size=\"14.00\">gini = 0.4</text>\n<text text-anchor=\"middle\" x=\"1905.5\" y=\"-527.8\" font-family=\"Helvetica,sans-Serif\" font-size=\"14.00\">samples = 5</text>\n<text text-anchor=\"middle\" x=\"1905.5\" y=\"-512.8\" font-family=\"Helvetica,sans-Serif\" font-size=\"14.00\">value = [2, 5]</text>\n</g>\n<!-- 56&#45;&gt;64 -->\n<g id=\"edge64\" class=\"edge\">\n<title>56&#45;&gt;64</title>\n<path fill=\"none\" stroke=\"black\" d=\"M1864.3,-608.88C1869.42,-600.33 1874.99,-591.01 1880.34,-582.07\"/>\n<polygon fill=\"black\" stroke=\"black\" points=\"1883.46,-583.68 1885.59,-573.3 1877.45,-580.09 1883.46,-583.68\"/>\n</g>\n<!-- 58 -->\n<g id=\"node59\" class=\"node\">\n<title>58</title>\n<path fill=\"none\" stroke=\"black\" d=\"M1704,-469C1704,-469 1555,-469 1555,-469 1549,-469 1543,-463 1543,-457 1543,-457 1543,-413 1543,-413 1543,-407 1549,-401 1555,-401 1555,-401 1704,-401 1704,-401 1710,-401 1716,-407 1716,-413 1716,-413 1716,-457 1716,-457 1716,-463 1710,-469 1704,-469\"/>\n<text text-anchor=\"middle\" x=\"1629.5\" y=\"-453.8\" font-family=\"Helvetica,sans-Serif\" font-size=\"14.00\">Estimatedataalary &lt;= &#45;0.7</text>\n<text text-anchor=\"middle\" x=\"1629.5\" y=\"-438.8\" font-family=\"Helvetica,sans-Serif\" font-size=\"14.00\">gini = 0.2</text>\n<text text-anchor=\"middle\" x=\"1629.5\" y=\"-423.8\" font-family=\"Helvetica,sans-Serif\" font-size=\"14.00\">samples = 6</text>\n<text text-anchor=\"middle\" x=\"1629.5\" y=\"-408.8\" font-family=\"Helvetica,sans-Serif\" font-size=\"14.00\">value = [1, 7]</text>\n</g>\n<!-- 57&#45;&gt;58 -->\n<g id=\"edge58\" class=\"edge\">\n<title>57&#45;&gt;58</title>\n<path fill=\"none\" stroke=\"black\" d=\"M1733.5,-504.88C1719.04,-495.3 1703.12,-484.76 1688.18,-474.86\"/>\n<polygon fill=\"black\" stroke=\"black\" points=\"1689.78,-471.73 1679.51,-469.12 1685.92,-477.56 1689.78,-471.73\"/>\n</g>\n<!-- 63 -->\n<g id=\"node64\" class=\"node\">\n<title>63</title>\n<path fill=\"none\" stroke=\"black\" d=\"M1824.5,-461.5C1824.5,-461.5 1746.5,-461.5 1746.5,-461.5 1740.5,-461.5 1734.5,-455.5 1734.5,-449.5 1734.5,-449.5 1734.5,-420.5 1734.5,-420.5 1734.5,-414.5 1740.5,-408.5 1746.5,-408.5 1746.5,-408.5 1824.5,-408.5 1824.5,-408.5 1830.5,-408.5 1836.5,-414.5 1836.5,-420.5 1836.5,-420.5 1836.5,-449.5 1836.5,-449.5 1836.5,-455.5 1830.5,-461.5 1824.5,-461.5\"/>\n<text text-anchor=\"middle\" x=\"1785.5\" y=\"-446.3\" font-family=\"Helvetica,sans-Serif\" font-size=\"14.00\">gini = 0.0</text>\n<text text-anchor=\"middle\" x=\"1785.5\" y=\"-431.3\" font-family=\"Helvetica,sans-Serif\" font-size=\"14.00\">samples = 7</text>\n<text text-anchor=\"middle\" x=\"1785.5\" y=\"-416.3\" font-family=\"Helvetica,sans-Serif\" font-size=\"14.00\">value = [0, 12]</text>\n</g>\n<!-- 57&#45;&gt;63 -->\n<g id=\"edge63\" class=\"edge\">\n<title>57&#45;&gt;63</title>\n<path fill=\"none\" stroke=\"black\" d=\"M1784.15,-504.88C1784.36,-494.22 1784.59,-482.35 1784.8,-471.52\"/>\n<polygon fill=\"black\" stroke=\"black\" points=\"1788.3,-471.59 1785,-461.52 1781.3,-471.45 1788.3,-471.59\"/>\n</g>\n<!-- 59 -->\n<g id=\"node60\" class=\"node\">\n<title>59</title>\n<path fill=\"none\" stroke=\"black\" d=\"M1670,-365C1670,-365 1589,-365 1589,-365 1583,-365 1577,-359 1577,-353 1577,-353 1577,-309 1577,-309 1577,-303 1583,-297 1589,-297 1589,-297 1670,-297 1670,-297 1676,-297 1682,-303 1682,-309 1682,-309 1682,-353 1682,-353 1682,-359 1676,-365 1670,-365\"/>\n<text text-anchor=\"middle\" x=\"1629.5\" y=\"-349.8\" font-family=\"Helvetica,sans-Serif\" font-size=\"14.00\">Gender &lt;= 0.0</text>\n<text text-anchor=\"middle\" x=\"1629.5\" y=\"-334.8\" font-family=\"Helvetica,sans-Serif\" font-size=\"14.00\">gini = 0.5</text>\n<text text-anchor=\"middle\" x=\"1629.5\" y=\"-319.8\" font-family=\"Helvetica,sans-Serif\" font-size=\"14.00\">samples = 2</text>\n<text text-anchor=\"middle\" x=\"1629.5\" y=\"-304.8\" font-family=\"Helvetica,sans-Serif\" font-size=\"14.00\">value = [1, 1]</text>\n</g>\n<!-- 58&#45;&gt;59 -->\n<g id=\"edge59\" class=\"edge\">\n<title>58&#45;&gt;59</title>\n<path fill=\"none\" stroke=\"black\" d=\"M1629.5,-400.88C1629.5,-392.78 1629.5,-383.98 1629.5,-375.47\"/>\n<polygon fill=\"black\" stroke=\"black\" points=\"1633,-375.3 1629.5,-365.3 1626,-375.3 1633,-375.3\"/>\n</g>\n<!-- 62 -->\n<g id=\"node63\" class=\"node\">\n<title>62</title>\n<path fill=\"none\" stroke=\"black\" d=\"M1783,-357.5C1783,-357.5 1712,-357.5 1712,-357.5 1706,-357.5 1700,-351.5 1700,-345.5 1700,-345.5 1700,-316.5 1700,-316.5 1700,-310.5 1706,-304.5 1712,-304.5 1712,-304.5 1783,-304.5 1783,-304.5 1789,-304.5 1795,-310.5 1795,-316.5 1795,-316.5 1795,-345.5 1795,-345.5 1795,-351.5 1789,-357.5 1783,-357.5\"/>\n<text text-anchor=\"middle\" x=\"1747.5\" y=\"-342.3\" font-family=\"Helvetica,sans-Serif\" font-size=\"14.00\">gini = 0.0</text>\n<text text-anchor=\"middle\" x=\"1747.5\" y=\"-327.3\" font-family=\"Helvetica,sans-Serif\" font-size=\"14.00\">samples = 4</text>\n<text text-anchor=\"middle\" x=\"1747.5\" y=\"-312.3\" font-family=\"Helvetica,sans-Serif\" font-size=\"14.00\">value = [0, 6]</text>\n</g>\n<!-- 58&#45;&gt;62 -->\n<g id=\"edge62\" class=\"edge\">\n<title>58&#45;&gt;62</title>\n<path fill=\"none\" stroke=\"black\" d=\"M1667.81,-400.88C1681.42,-389.12 1696.72,-375.89 1710.25,-364.2\"/>\n<polygon fill=\"black\" stroke=\"black\" points=\"1712.7,-366.71 1717.98,-357.52 1708.12,-361.41 1712.7,-366.71\"/>\n</g>\n<!-- 60 -->\n<g id=\"node61\" class=\"node\">\n<title>60</title>\n<path fill=\"none\" stroke=\"black\" d=\"M1665,-253.5C1665,-253.5 1594,-253.5 1594,-253.5 1588,-253.5 1582,-247.5 1582,-241.5 1582,-241.5 1582,-212.5 1582,-212.5 1582,-206.5 1588,-200.5 1594,-200.5 1594,-200.5 1665,-200.5 1665,-200.5 1671,-200.5 1677,-206.5 1677,-212.5 1677,-212.5 1677,-241.5 1677,-241.5 1677,-247.5 1671,-253.5 1665,-253.5\"/>\n<text text-anchor=\"middle\" x=\"1629.5\" y=\"-238.3\" font-family=\"Helvetica,sans-Serif\" font-size=\"14.00\">gini = 0.0</text>\n<text text-anchor=\"middle\" x=\"1629.5\" y=\"-223.3\" font-family=\"Helvetica,sans-Serif\" font-size=\"14.00\">samples = 1</text>\n<text text-anchor=\"middle\" x=\"1629.5\" y=\"-208.3\" font-family=\"Helvetica,sans-Serif\" font-size=\"14.00\">value = [1, 0]</text>\n</g>\n<!-- 59&#45;&gt;60 -->\n<g id=\"edge60\" class=\"edge\">\n<title>59&#45;&gt;60</title>\n<path fill=\"none\" stroke=\"black\" d=\"M1629.5,-296.88C1629.5,-286.33 1629.5,-274.6 1629.5,-263.85\"/>\n<polygon fill=\"black\" stroke=\"black\" points=\"1633,-263.52 1629.5,-253.52 1626,-263.52 1633,-263.52\"/>\n</g>\n<!-- 61 -->\n<g id=\"node62\" class=\"node\">\n<title>61</title>\n<path fill=\"none\" stroke=\"black\" d=\"M1778,-253.5C1778,-253.5 1707,-253.5 1707,-253.5 1701,-253.5 1695,-247.5 1695,-241.5 1695,-241.5 1695,-212.5 1695,-212.5 1695,-206.5 1701,-200.5 1707,-200.5 1707,-200.5 1778,-200.5 1778,-200.5 1784,-200.5 1790,-206.5 1790,-212.5 1790,-212.5 1790,-241.5 1790,-241.5 1790,-247.5 1784,-253.5 1778,-253.5\"/>\n<text text-anchor=\"middle\" x=\"1742.5\" y=\"-238.3\" font-family=\"Helvetica,sans-Serif\" font-size=\"14.00\">gini = 0.0</text>\n<text text-anchor=\"middle\" x=\"1742.5\" y=\"-223.3\" font-family=\"Helvetica,sans-Serif\" font-size=\"14.00\">samples = 1</text>\n<text text-anchor=\"middle\" x=\"1742.5\" y=\"-208.3\" font-family=\"Helvetica,sans-Serif\" font-size=\"14.00\">value = [0, 1]</text>\n</g>\n<!-- 59&#45;&gt;61 -->\n<g id=\"edge61\" class=\"edge\">\n<title>59&#45;&gt;61</title>\n<path fill=\"none\" stroke=\"black\" d=\"M1666.19,-296.88C1679.1,-285.23 1693.6,-272.14 1706.46,-260.53\"/>\n<polygon fill=\"black\" stroke=\"black\" points=\"1709.15,-262.82 1714.23,-253.52 1704.46,-257.62 1709.15,-262.82\"/>\n</g>\n<!-- 65 -->\n<g id=\"node66\" class=\"node\">\n<title>65</title>\n<path fill=\"none\" stroke=\"black\" d=\"M1938,-461.5C1938,-461.5 1867,-461.5 1867,-461.5 1861,-461.5 1855,-455.5 1855,-449.5 1855,-449.5 1855,-420.5 1855,-420.5 1855,-414.5 1861,-408.5 1867,-408.5 1867,-408.5 1938,-408.5 1938,-408.5 1944,-408.5 1950,-414.5 1950,-420.5 1950,-420.5 1950,-449.5 1950,-449.5 1950,-455.5 1944,-461.5 1938,-461.5\"/>\n<text text-anchor=\"middle\" x=\"1902.5\" y=\"-446.3\" font-family=\"Helvetica,sans-Serif\" font-size=\"14.00\">gini = 0.0</text>\n<text text-anchor=\"middle\" x=\"1902.5\" y=\"-431.3\" font-family=\"Helvetica,sans-Serif\" font-size=\"14.00\">samples = 1</text>\n<text text-anchor=\"middle\" x=\"1902.5\" y=\"-416.3\" font-family=\"Helvetica,sans-Serif\" font-size=\"14.00\">value = [0, 1]</text>\n</g>\n<!-- 64&#45;&gt;65 -->\n<g id=\"edge65\" class=\"edge\">\n<title>64&#45;&gt;65</title>\n<path fill=\"none\" stroke=\"black\" d=\"M1904.53,-504.88C1904.21,-494.22 1903.86,-482.35 1903.54,-471.52\"/>\n<polygon fill=\"black\" stroke=\"black\" points=\"1907.04,-471.41 1903.25,-461.52 1900.05,-471.62 1907.04,-471.41\"/>\n</g>\n<!-- 66 -->\n<g id=\"node67\" class=\"node\">\n<title>66</title>\n<path fill=\"none\" stroke=\"black\" d=\"M2124.5,-469C2124.5,-469 1980.5,-469 1980.5,-469 1974.5,-469 1968.5,-463 1968.5,-457 1968.5,-457 1968.5,-413 1968.5,-413 1968.5,-407 1974.5,-401 1980.5,-401 1980.5,-401 2124.5,-401 2124.5,-401 2130.5,-401 2136.5,-407 2136.5,-413 2136.5,-413 2136.5,-457 2136.5,-457 2136.5,-463 2130.5,-469 2124.5,-469\"/>\n<text text-anchor=\"middle\" x=\"2052.5\" y=\"-453.8\" font-family=\"Helvetica,sans-Serif\" font-size=\"14.00\">Estimatedataalary &lt;= 0.2</text>\n<text text-anchor=\"middle\" x=\"2052.5\" y=\"-438.8\" font-family=\"Helvetica,sans-Serif\" font-size=\"14.00\">gini = 0.4</text>\n<text text-anchor=\"middle\" x=\"2052.5\" y=\"-423.8\" font-family=\"Helvetica,sans-Serif\" font-size=\"14.00\">samples = 4</text>\n<text text-anchor=\"middle\" x=\"2052.5\" y=\"-408.8\" font-family=\"Helvetica,sans-Serif\" font-size=\"14.00\">value = [2, 4]</text>\n</g>\n<!-- 64&#45;&gt;66 -->\n<g id=\"edge66\" class=\"edge\">\n<title>64&#45;&gt;66</title>\n<path fill=\"none\" stroke=\"black\" d=\"M1953.23,-504.88C1967.03,-495.3 1982.23,-484.76 1996.49,-474.86\"/>\n<polygon fill=\"black\" stroke=\"black\" points=\"1998.54,-477.7 2004.76,-469.12 1994.55,-471.95 1998.54,-477.7\"/>\n</g>\n<!-- 67 -->\n<g id=\"node68\" class=\"node\">\n<title>67</title>\n<path fill=\"none\" stroke=\"black\" d=\"M1994,-365C1994,-365 1845,-365 1845,-365 1839,-365 1833,-359 1833,-353 1833,-353 1833,-309 1833,-309 1833,-303 1839,-297 1845,-297 1845,-297 1994,-297 1994,-297 2000,-297 2006,-303 2006,-309 2006,-309 2006,-353 2006,-353 2006,-359 2000,-365 1994,-365\"/>\n<text text-anchor=\"middle\" x=\"1919.5\" y=\"-349.8\" font-family=\"Helvetica,sans-Serif\" font-size=\"14.00\">Estimatedataalary &lt;= &#45;0.7</text>\n<text text-anchor=\"middle\" x=\"1919.5\" y=\"-334.8\" font-family=\"Helvetica,sans-Serif\" font-size=\"14.00\">gini = 0.4</text>\n<text text-anchor=\"middle\" x=\"1919.5\" y=\"-319.8\" font-family=\"Helvetica,sans-Serif\" font-size=\"14.00\">samples = 2</text>\n<text text-anchor=\"middle\" x=\"1919.5\" y=\"-304.8\" font-family=\"Helvetica,sans-Serif\" font-size=\"14.00\">value = [2, 1]</text>\n</g>\n<!-- 66&#45;&gt;67 -->\n<g id=\"edge67\" class=\"edge\">\n<title>66&#45;&gt;67</title>\n<path fill=\"none\" stroke=\"black\" d=\"M2009.32,-400.88C1997.12,-391.53 1983.73,-381.26 1971.09,-371.57\"/>\n<polygon fill=\"black\" stroke=\"black\" points=\"1972.98,-368.61 1962.92,-365.3 1968.72,-374.16 1972.98,-368.61\"/>\n</g>\n<!-- 70 -->\n<g id=\"node71\" class=\"node\">\n<title>70</title>\n<path fill=\"none\" stroke=\"black\" d=\"M2107,-357.5C2107,-357.5 2036,-357.5 2036,-357.5 2030,-357.5 2024,-351.5 2024,-345.5 2024,-345.5 2024,-316.5 2024,-316.5 2024,-310.5 2030,-304.5 2036,-304.5 2036,-304.5 2107,-304.5 2107,-304.5 2113,-304.5 2119,-310.5 2119,-316.5 2119,-316.5 2119,-345.5 2119,-345.5 2119,-351.5 2113,-357.5 2107,-357.5\"/>\n<text text-anchor=\"middle\" x=\"2071.5\" y=\"-342.3\" font-family=\"Helvetica,sans-Serif\" font-size=\"14.00\">gini = 0.0</text>\n<text text-anchor=\"middle\" x=\"2071.5\" y=\"-327.3\" font-family=\"Helvetica,sans-Serif\" font-size=\"14.00\">samples = 2</text>\n<text text-anchor=\"middle\" x=\"2071.5\" y=\"-312.3\" font-family=\"Helvetica,sans-Serif\" font-size=\"14.00\">value = [0, 3]</text>\n</g>\n<!-- 66&#45;&gt;70 -->\n<g id=\"edge70\" class=\"edge\">\n<title>66&#45;&gt;70</title>\n<path fill=\"none\" stroke=\"black\" d=\"M2058.67,-400.88C2060.66,-390.22 2062.87,-378.35 2064.88,-367.52\"/>\n<polygon fill=\"black\" stroke=\"black\" points=\"2068.36,-367.99 2066.75,-357.52 2061.47,-366.71 2068.36,-367.99\"/>\n</g>\n<!-- 68 -->\n<g id=\"node69\" class=\"node\">\n<title>68</title>\n<path fill=\"none\" stroke=\"black\" d=\"M1913,-253.5C1913,-253.5 1842,-253.5 1842,-253.5 1836,-253.5 1830,-247.5 1830,-241.5 1830,-241.5 1830,-212.5 1830,-212.5 1830,-206.5 1836,-200.5 1842,-200.5 1842,-200.5 1913,-200.5 1913,-200.5 1919,-200.5 1925,-206.5 1925,-212.5 1925,-212.5 1925,-241.5 1925,-241.5 1925,-247.5 1919,-253.5 1913,-253.5\"/>\n<text text-anchor=\"middle\" x=\"1877.5\" y=\"-238.3\" font-family=\"Helvetica,sans-Serif\" font-size=\"14.00\">gini = 0.0</text>\n<text text-anchor=\"middle\" x=\"1877.5\" y=\"-223.3\" font-family=\"Helvetica,sans-Serif\" font-size=\"14.00\">samples = 1</text>\n<text text-anchor=\"middle\" x=\"1877.5\" y=\"-208.3\" font-family=\"Helvetica,sans-Serif\" font-size=\"14.00\">value = [0, 1]</text>\n</g>\n<!-- 67&#45;&gt;68 -->\n<g id=\"edge68\" class=\"edge\">\n<title>67&#45;&gt;68</title>\n<path fill=\"none\" stroke=\"black\" d=\"M1905.86,-296.88C1901.38,-286 1896.38,-273.86 1891.85,-262.85\"/>\n<polygon fill=\"black\" stroke=\"black\" points=\"1895.05,-261.43 1888.01,-253.52 1888.58,-264.1 1895.05,-261.43\"/>\n</g>\n<!-- 69 -->\n<g id=\"node70\" class=\"node\">\n<title>69</title>\n<path fill=\"none\" stroke=\"black\" d=\"M2026,-253.5C2026,-253.5 1955,-253.5 1955,-253.5 1949,-253.5 1943,-247.5 1943,-241.5 1943,-241.5 1943,-212.5 1943,-212.5 1943,-206.5 1949,-200.5 1955,-200.5 1955,-200.5 2026,-200.5 2026,-200.5 2032,-200.5 2038,-206.5 2038,-212.5 2038,-212.5 2038,-241.5 2038,-241.5 2038,-247.5 2032,-253.5 2026,-253.5\"/>\n<text text-anchor=\"middle\" x=\"1990.5\" y=\"-238.3\" font-family=\"Helvetica,sans-Serif\" font-size=\"14.00\">gini = 0.0</text>\n<text text-anchor=\"middle\" x=\"1990.5\" y=\"-223.3\" font-family=\"Helvetica,sans-Serif\" font-size=\"14.00\">samples = 1</text>\n<text text-anchor=\"middle\" x=\"1990.5\" y=\"-208.3\" font-family=\"Helvetica,sans-Serif\" font-size=\"14.00\">value = [2, 0]</text>\n</g>\n<!-- 67&#45;&gt;69 -->\n<g id=\"edge69\" class=\"edge\">\n<title>67&#45;&gt;69</title>\n<path fill=\"none\" stroke=\"black\" d=\"M1942.55,-296.88C1950.36,-285.67 1959.09,-273.13 1966.94,-261.85\"/>\n<polygon fill=\"black\" stroke=\"black\" points=\"1969.9,-263.73 1972.74,-253.52 1964.15,-259.73 1969.9,-263.73\"/>\n</g>\n<!-- 73 -->\n<g id=\"node74\" class=\"node\">\n<title>73</title>\n<path fill=\"none\" stroke=\"black\" d=\"M2282,-677C2282,-677 2201,-677 2201,-677 2195,-677 2189,-671 2189,-665 2189,-665 2189,-621 2189,-621 2189,-615 2195,-609 2201,-609 2201,-609 2282,-609 2282,-609 2288,-609 2294,-615 2294,-621 2294,-621 2294,-665 2294,-665 2294,-671 2288,-677 2282,-677\"/>\n<text text-anchor=\"middle\" x=\"2241.5\" y=\"-661.8\" font-family=\"Helvetica,sans-Serif\" font-size=\"14.00\">Gender &lt;= 0.0</text>\n<text text-anchor=\"middle\" x=\"2241.5\" y=\"-646.8\" font-family=\"Helvetica,sans-Serif\" font-size=\"14.00\">gini = 0.4</text>\n<text text-anchor=\"middle\" x=\"2241.5\" y=\"-631.8\" font-family=\"Helvetica,sans-Serif\" font-size=\"14.00\">samples = 6</text>\n<text text-anchor=\"middle\" x=\"2241.5\" y=\"-616.8\" font-family=\"Helvetica,sans-Serif\" font-size=\"14.00\">value = [2, 6]</text>\n</g>\n<!-- 72&#45;&gt;73 -->\n<g id=\"edge73\" class=\"edge\">\n<title>72&#45;&gt;73</title>\n<path fill=\"none\" stroke=\"black\" d=\"M2241.5,-712.88C2241.5,-704.78 2241.5,-695.98 2241.5,-687.47\"/>\n<polygon fill=\"black\" stroke=\"black\" points=\"2245,-687.3 2241.5,-677.3 2238,-687.3 2245,-687.3\"/>\n</g>\n<!-- 80 -->\n<g id=\"node81\" class=\"node\">\n<title>80</title>\n<path fill=\"none\" stroke=\"black\" d=\"M2395,-669.5C2395,-669.5 2324,-669.5 2324,-669.5 2318,-669.5 2312,-663.5 2312,-657.5 2312,-657.5 2312,-628.5 2312,-628.5 2312,-622.5 2318,-616.5 2324,-616.5 2324,-616.5 2395,-616.5 2395,-616.5 2401,-616.5 2407,-622.5 2407,-628.5 2407,-628.5 2407,-657.5 2407,-657.5 2407,-663.5 2401,-669.5 2395,-669.5\"/>\n<text text-anchor=\"middle\" x=\"2359.5\" y=\"-654.3\" font-family=\"Helvetica,sans-Serif\" font-size=\"14.00\">gini = 0.0</text>\n<text text-anchor=\"middle\" x=\"2359.5\" y=\"-639.3\" font-family=\"Helvetica,sans-Serif\" font-size=\"14.00\">samples = 2</text>\n<text text-anchor=\"middle\" x=\"2359.5\" y=\"-624.3\" font-family=\"Helvetica,sans-Serif\" font-size=\"14.00\">value = [0, 2]</text>\n</g>\n<!-- 72&#45;&gt;80 -->\n<g id=\"edge80\" class=\"edge\">\n<title>72&#45;&gt;80</title>\n<path fill=\"none\" stroke=\"black\" d=\"M2279.81,-712.88C2293.42,-701.12 2308.72,-687.89 2322.25,-676.2\"/>\n<polygon fill=\"black\" stroke=\"black\" points=\"2324.7,-678.71 2329.98,-669.52 2320.12,-673.41 2324.7,-678.71\"/>\n</g>\n<!-- 74 -->\n<g id=\"node75\" class=\"node\">\n<title>74</title>\n<path fill=\"none\" stroke=\"black\" d=\"M2316,-573C2316,-573 2167,-573 2167,-573 2161,-573 2155,-567 2155,-561 2155,-561 2155,-517 2155,-517 2155,-511 2161,-505 2167,-505 2167,-505 2316,-505 2316,-505 2322,-505 2328,-511 2328,-517 2328,-517 2328,-561 2328,-561 2328,-567 2322,-573 2316,-573\"/>\n<text text-anchor=\"middle\" x=\"2241.5\" y=\"-557.8\" font-family=\"Helvetica,sans-Serif\" font-size=\"14.00\">Estimatedataalary &lt;= &#45;0.3</text>\n<text text-anchor=\"middle\" x=\"2241.5\" y=\"-542.8\" font-family=\"Helvetica,sans-Serif\" font-size=\"14.00\">gini = 0.4</text>\n<text text-anchor=\"middle\" x=\"2241.5\" y=\"-527.8\" font-family=\"Helvetica,sans-Serif\" font-size=\"14.00\">samples = 4</text>\n<text text-anchor=\"middle\" x=\"2241.5\" y=\"-512.8\" font-family=\"Helvetica,sans-Serif\" font-size=\"14.00\">value = [2, 4]</text>\n</g>\n<!-- 73&#45;&gt;74 -->\n<g id=\"edge74\" class=\"edge\">\n<title>73&#45;&gt;74</title>\n<path fill=\"none\" stroke=\"black\" d=\"M2241.5,-608.88C2241.5,-600.78 2241.5,-591.98 2241.5,-583.47\"/>\n<polygon fill=\"black\" stroke=\"black\" points=\"2245,-583.3 2241.5,-573.3 2238,-583.3 2245,-583.3\"/>\n</g>\n<!-- 79 -->\n<g id=\"node80\" class=\"node\">\n<title>79</title>\n<path fill=\"none\" stroke=\"black\" d=\"M2429,-565.5C2429,-565.5 2358,-565.5 2358,-565.5 2352,-565.5 2346,-559.5 2346,-553.5 2346,-553.5 2346,-524.5 2346,-524.5 2346,-518.5 2352,-512.5 2358,-512.5 2358,-512.5 2429,-512.5 2429,-512.5 2435,-512.5 2441,-518.5 2441,-524.5 2441,-524.5 2441,-553.5 2441,-553.5 2441,-559.5 2435,-565.5 2429,-565.5\"/>\n<text text-anchor=\"middle\" x=\"2393.5\" y=\"-550.3\" font-family=\"Helvetica,sans-Serif\" font-size=\"14.00\">gini = 0.0</text>\n<text text-anchor=\"middle\" x=\"2393.5\" y=\"-535.3\" font-family=\"Helvetica,sans-Serif\" font-size=\"14.00\">samples = 2</text>\n<text text-anchor=\"middle\" x=\"2393.5\" y=\"-520.3\" font-family=\"Helvetica,sans-Serif\" font-size=\"14.00\">value = [0, 2]</text>\n</g>\n<!-- 73&#45;&gt;79 -->\n<g id=\"edge79\" class=\"edge\">\n<title>73&#45;&gt;79</title>\n<path fill=\"none\" stroke=\"black\" d=\"M2290.85,-608.88C2308.88,-596.79 2329.2,-583.15 2346.97,-571.22\"/>\n<polygon fill=\"black\" stroke=\"black\" points=\"2349.12,-574 2355.47,-565.52 2345.22,-568.19 2349.12,-574\"/>\n</g>\n<!-- 75 -->\n<g id=\"node76\" class=\"node\">\n<title>75</title>\n<path fill=\"none\" stroke=\"black\" d=\"M2316,-469C2316,-469 2167,-469 2167,-469 2161,-469 2155,-463 2155,-457 2155,-457 2155,-413 2155,-413 2155,-407 2161,-401 2167,-401 2167,-401 2316,-401 2316,-401 2322,-401 2328,-407 2328,-413 2328,-413 2328,-457 2328,-457 2328,-463 2322,-469 2316,-469\"/>\n<text text-anchor=\"middle\" x=\"2241.5\" y=\"-453.8\" font-family=\"Helvetica,sans-Serif\" font-size=\"14.00\">Estimatedataalary &lt;= &#45;1.0</text>\n<text text-anchor=\"middle\" x=\"2241.5\" y=\"-438.8\" font-family=\"Helvetica,sans-Serif\" font-size=\"14.00\">gini = 0.4</text>\n<text text-anchor=\"middle\" x=\"2241.5\" y=\"-423.8\" font-family=\"Helvetica,sans-Serif\" font-size=\"14.00\">samples = 2</text>\n<text text-anchor=\"middle\" x=\"2241.5\" y=\"-408.8\" font-family=\"Helvetica,sans-Serif\" font-size=\"14.00\">value = [2, 1]</text>\n</g>\n<!-- 74&#45;&gt;75 -->\n<g id=\"edge75\" class=\"edge\">\n<title>74&#45;&gt;75</title>\n<path fill=\"none\" stroke=\"black\" d=\"M2241.5,-504.88C2241.5,-496.78 2241.5,-487.98 2241.5,-479.47\"/>\n<polygon fill=\"black\" stroke=\"black\" points=\"2245,-479.3 2241.5,-469.3 2238,-479.3 2245,-479.3\"/>\n</g>\n<!-- 78 -->\n<g id=\"node79\" class=\"node\">\n<title>78</title>\n<path fill=\"none\" stroke=\"black\" d=\"M2429,-461.5C2429,-461.5 2358,-461.5 2358,-461.5 2352,-461.5 2346,-455.5 2346,-449.5 2346,-449.5 2346,-420.5 2346,-420.5 2346,-414.5 2352,-408.5 2358,-408.5 2358,-408.5 2429,-408.5 2429,-408.5 2435,-408.5 2441,-414.5 2441,-420.5 2441,-420.5 2441,-449.5 2441,-449.5 2441,-455.5 2435,-461.5 2429,-461.5\"/>\n<text text-anchor=\"middle\" x=\"2393.5\" y=\"-446.3\" font-family=\"Helvetica,sans-Serif\" font-size=\"14.00\">gini = 0.0</text>\n<text text-anchor=\"middle\" x=\"2393.5\" y=\"-431.3\" font-family=\"Helvetica,sans-Serif\" font-size=\"14.00\">samples = 2</text>\n<text text-anchor=\"middle\" x=\"2393.5\" y=\"-416.3\" font-family=\"Helvetica,sans-Serif\" font-size=\"14.00\">value = [0, 3]</text>\n</g>\n<!-- 74&#45;&gt;78 -->\n<g id=\"edge78\" class=\"edge\">\n<title>74&#45;&gt;78</title>\n<path fill=\"none\" stroke=\"black\" d=\"M2290.85,-504.88C2308.88,-492.79 2329.2,-479.15 2346.97,-467.22\"/>\n<polygon fill=\"black\" stroke=\"black\" points=\"2349.12,-470 2355.47,-461.52 2345.22,-464.19 2349.12,-470\"/>\n</g>\n<!-- 76 -->\n<g id=\"node77\" class=\"node\">\n<title>76</title>\n<path fill=\"none\" stroke=\"black\" d=\"M2258,-357.5C2258,-357.5 2187,-357.5 2187,-357.5 2181,-357.5 2175,-351.5 2175,-345.5 2175,-345.5 2175,-316.5 2175,-316.5 2175,-310.5 2181,-304.5 2187,-304.5 2187,-304.5 2258,-304.5 2258,-304.5 2264,-304.5 2270,-310.5 2270,-316.5 2270,-316.5 2270,-345.5 2270,-345.5 2270,-351.5 2264,-357.5 2258,-357.5\"/>\n<text text-anchor=\"middle\" x=\"2222.5\" y=\"-342.3\" font-family=\"Helvetica,sans-Serif\" font-size=\"14.00\">gini = 0.0</text>\n<text text-anchor=\"middle\" x=\"2222.5\" y=\"-327.3\" font-family=\"Helvetica,sans-Serif\" font-size=\"14.00\">samples = 1</text>\n<text text-anchor=\"middle\" x=\"2222.5\" y=\"-312.3\" font-family=\"Helvetica,sans-Serif\" font-size=\"14.00\">value = [0, 1]</text>\n</g>\n<!-- 75&#45;&gt;76 -->\n<g id=\"edge76\" class=\"edge\">\n<title>75&#45;&gt;76</title>\n<path fill=\"none\" stroke=\"black\" d=\"M2235.33,-400.88C2233.34,-390.22 2231.13,-378.35 2229.12,-367.52\"/>\n<polygon fill=\"black\" stroke=\"black\" points=\"2232.53,-366.71 2227.25,-357.52 2225.64,-367.99 2232.53,-366.71\"/>\n</g>\n<!-- 77 -->\n<g id=\"node78\" class=\"node\">\n<title>77</title>\n<path fill=\"none\" stroke=\"black\" d=\"M2371,-357.5C2371,-357.5 2300,-357.5 2300,-357.5 2294,-357.5 2288,-351.5 2288,-345.5 2288,-345.5 2288,-316.5 2288,-316.5 2288,-310.5 2294,-304.5 2300,-304.5 2300,-304.5 2371,-304.5 2371,-304.5 2377,-304.5 2383,-310.5 2383,-316.5 2383,-316.5 2383,-345.5 2383,-345.5 2383,-351.5 2377,-357.5 2371,-357.5\"/>\n<text text-anchor=\"middle\" x=\"2335.5\" y=\"-342.3\" font-family=\"Helvetica,sans-Serif\" font-size=\"14.00\">gini = 0.0</text>\n<text text-anchor=\"middle\" x=\"2335.5\" y=\"-327.3\" font-family=\"Helvetica,sans-Serif\" font-size=\"14.00\">samples = 1</text>\n<text text-anchor=\"middle\" x=\"2335.5\" y=\"-312.3\" font-family=\"Helvetica,sans-Serif\" font-size=\"14.00\">value = [2, 0]</text>\n</g>\n<!-- 75&#45;&gt;77 -->\n<g id=\"edge77\" class=\"edge\">\n<title>75&#45;&gt;77</title>\n<path fill=\"none\" stroke=\"black\" d=\"M2272.02,-400.88C2282.56,-389.45 2294.37,-376.63 2304.91,-365.19\"/>\n<polygon fill=\"black\" stroke=\"black\" points=\"2307.78,-367.25 2311.98,-357.52 2302.63,-362.5 2307.78,-367.25\"/>\n</g>\n</g>\n</svg>\n",
            "text/plain": [
              "<graphviz.files.Source at 0x7fd5dcdf73a0>"
            ]
          },
          "execution_count": 43,
          "metadata": {},
          "output_type": "execute_result"
        }
      ],
      "source": [
        "import graphviz\n",
        "with open(\"tree.dot\") as f:\n",
        "    dot_graph = f.read()\n",
        "graphviz.Source(dot_graph)"
      ]
    },
    {
      "cell_type": "markdown",
      "metadata": {
        "id": "o7VKXMBTb0nC"
      },
      "source": [
        "# Saving Model"
      ]
    },
    {
      "cell_type": "code",
      "execution_count": null,
      "metadata": {
        "id": "XL35leRk6M17"
      },
      "outputs": [],
      "source": [
        "# Exporting model\n",
        "import pickle\n",
        "pickle.dump(model,open('model.pkl','wb'))"
      ]
    },
    {
      "cell_type": "code",
      "execution_count": null,
      "metadata": {
        "colab": {
          "base_uri": "https://localhost:8080/"
        },
        "id": "D-OddvcF6M19",
        "outputId": "6288ccb4-833d-4d8f-91c6-1fcbbc0c72b6"
      },
      "outputs": [
        {
          "data": {
            "text/plain": [
              "array([0])"
            ]
          },
          "execution_count": 45,
          "metadata": {},
          "output_type": "execute_result"
        }
      ],
      "source": [
        "# Import & Predict\n",
        "model=pickle.load(open('model.pkl','rb'))\n",
        "model.predict(scaler.fit_transform([[1,32,2700]]))"
      ]
    },
    {
      "cell_type": "markdown",
      "metadata": {
        "id": "gEujkLi4fXdJ"
      },
      "source": [
        "**Where 0 is Not Purchased** \n",
        "\n",
        "**And 1 is Purchased**"
      ]
    },
    {
      "cell_type": "markdown",
      "metadata": {
        "id": "mKMKcTMHfJdh"
      },
      "source": [
        "## Let's Deploy our model!\n",
        "\n",
        "We technically need a server to deploy our application, we are using is a free VM provided by Google.\n",
        "\n",
        "We can expose it to a public URL using ngrok and make API for our model using FLASK."
      ]
    },
    {
      "cell_type": "code",
      "execution_count": null,
      "metadata": {
        "id": "IFa40IBheiBU"
      },
      "outputs": [],
      "source": [
        "!pip install flask-ngrok"
      ]
    },
    {
      "cell_type": "code",
      "execution_count": null,
      "metadata": {
        "id": "HHBaot3afl1m"
      },
      "outputs": [],
      "source": [
        "from flask import Flask, jsonify, make_response, request\n",
        "from flask_ngrok import run_with_ngrok\n",
        "\n",
        "app = Flask(__name__)\n",
        "run_with_ngrok(app)\n",
        "\n",
        "@app.route(\"/\",methods=['Get'])\n",
        "def putStatus():\n",
        "  data = {\"data\": \"Hello World\"}\n",
        "  return jsonify(data)\n",
        "@app.route('/predict',methods=['POST'])\n",
        "def predict():\n",
        "  data = request.get_json(force=True)\n",
        "  gender = str(data['Gender'])\n",
        "  age = str(data['Age'])\n",
        "  sal = str(data['Salary'])\n",
        "  test = np.array([[gender,age,sal]])\n",
        "  model=pickle.load(open('model.pkl','rb'))\n",
        "  prediction = model.predict(scaler.fit_transform(test))\n",
        "  output = prediction[0]\n",
        "  if (output == 0):\n",
        "    return \"He/She's not gonna purchase it!\"\n",
        "  else :\n",
        "    return \"He/She's gonna purchase it!\"\n",
        "app.run()\n"
      ]
    }
  ],
  "metadata": {
    "colab": {
      "provenance": [],
      "include_colab_link": true
    },
    "gpuClass": "standard",
    "kernelspec": {
      "display_name": "Python 3",
      "language": "python",
      "name": "python3"
    },
    "language_info": {
      "codemirror_mode": {
        "name": "ipython",
        "version": 3
      },
      "file_extension": ".py",
      "mimetype": "text/x-python",
      "name": "python",
      "nbconvert_exporter": "python",
      "pygments_lexer": "ipython3",
      "version": "3.7.6"
    }
  },
  "nbformat": 4,
  "nbformat_minor": 0
}